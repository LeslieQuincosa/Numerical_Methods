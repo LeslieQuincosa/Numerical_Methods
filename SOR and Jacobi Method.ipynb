{
  "nbformat": 4,
  "nbformat_minor": 0,
  "metadata": {
    "colab": {
      "provenance": []
    },
    "kernelspec": {
      "name": "python3",
      "display_name": "Python 3"
    },
    "language_info": {
      "name": "python"
    }
  },
  "cells": [
    {
      "cell_type": "markdown",
      "source": [
        "#Tarea 2/ parte 2 Métodos numéricos\n",
        "##Leslie Janeth Quincosa Ramírez\n",
        "\n",
        "#Ejercicio 4\n",
        " El sistema lineal dado por\n",
        "\n",
        "$$\n",
        "\\begin{aligned}\n",
        "x_{1}+2 x_{2} & =3 \\\\\n",
        "1.0001 x_{1}+2 x_{2} & =3.0001\n",
        "\\end{aligned}\n",
        "$$\n",
        "\n",
        "tiene como solución el vector $(1,1)^{T}$. La matriz $A$ es obtenida mediante datos experimentales y la nueva medición cambia $A$ ligeramente, siendo el nuevo sistema\n",
        "\n",
        "$$\n",
        "\\begin{aligned}\n",
        "x_{1}+2 x_{2} & =3 \\\\\n",
        "0.9999 x_{1}+2 x_{2} & =3.0001\n",
        "\\end{aligned}\n",
        "$$\n",
        "\n",
        "(a) Calcular la nueva solución usando aritmética de 5 dígitos y comparar el error obtenido con el estimado por:\n",
        "\n",
        "$$\n",
        "\\frac{\\|\\hat{x}-x\\|}{\\|x\\|} \\leq \\frac{\\kappa(A)}{1-\\kappa(A)(\\|\\delta A\\| /\\|A\\|)}\\left(\\frac{\\|\\delta A\\|}{\\|A\\|}+\\frac{\\|\\delta b\\|}{\\|b\\|}\\right)\n",
        "$$\n",
        "\n",
        "donde $A$ y $b$ son tales que el sistema se escribe de la forma $A x=b$; $\\delta A, \\delta b$ son las perturbaciones asociadas a $A$ y $b ; \\kappa(A)=\\|A\\|\\left\\|A^{-1}\\right\\|$. ¿Es la matriz A mal condicionada? Si es así realiza un tratamiento para obtener un sistema equivalente bien condicionado."
      ],
      "metadata": {
        "id": "T0MsxHaoeo2z"
      }
    },
    {
      "cell_type": "code",
      "execution_count": 140,
      "metadata": {
        "id": "BIveYe_Zz3Cp"
      },
      "outputs": [],
      "source": [
        "import numpy as np"
      ]
    },
    {
      "cell_type": "code",
      "source": [
        "A_original = np.array([[1,2],[1.0001, 2]], dtype = 'float64')\n",
        "b_original = np.array([3, 3.0001], dtype = 'float64')"
      ],
      "metadata": {
        "id": "p5lklyu-0HsL"
      },
      "execution_count": 141,
      "outputs": []
    },
    {
      "cell_type": "code",
      "source": [
        "#Solución del sistema original\n",
        "x= np.linalg.solve(A_original, b_original)\n",
        "print(x)"
      ],
      "metadata": {
        "colab": {
          "base_uri": "https://localhost:8080/"
        },
        "id": "U_X6xULx2Qhs",
        "outputId": "aaff4774-d36e-45dc-de0a-0c84e9da5b1d"
      },
      "execution_count": 142,
      "outputs": [
        {
          "output_type": "stream",
          "name": "stdout",
          "text": [
            "[1. 1.]\n"
          ]
        }
      ]
    },
    {
      "cell_type": "code",
      "source": [
        "#Inversa de la matriz A\n",
        "Ainv = np.linalg.inv(A_original)\n",
        "print(Ainv)"
      ],
      "metadata": {
        "colab": {
          "base_uri": "https://localhost:8080/"
        },
        "id": "j3WlS6tXfoo3",
        "outputId": "d5ce84c4-d89c-4375-bd34-bffa65f63151"
      },
      "execution_count": 143,
      "outputs": [
        {
          "output_type": "stream",
          "name": "stdout",
          "text": [
            "[[-10000.   10000. ]\n",
            " [  5000.5  -5000. ]]\n"
          ]
        }
      ]
    },
    {
      "cell_type": "code",
      "source": [
        "#Número de la condición de la matriz A original\n",
        "Ainv_norm = np.linalg.norm(Ainv, ord=np.inf)\n",
        "A_norm = np.linalg.norm(A_original, ord=np.inf)\n",
        "\n",
        "kA = A_norm*Ainv_norm\n",
        "\n",
        "KA = np.linalg.cond(A_original, p=np.inf)\n",
        "print(KA)"
      ],
      "metadata": {
        "id": "vEVntPqH04GX",
        "colab": {
          "base_uri": "https://localhost:8080/"
        },
        "outputId": "773f6876-33d7-468c-a53b-327c6fb63cc1"
      },
      "execution_count": 144,
      "outputs": [
        {
          "output_type": "stream",
          "name": "stdout",
          "text": [
            "60001.99999999003\n"
          ]
        }
      ]
    },
    {
      "cell_type": "markdown",
      "source": [
        "Notemos que el número de condición de $A$ es muy grande. Vamos a aplicar algún método que mejore esa condición"
      ],
      "metadata": {
        "id": "nbAVx_pAfQG3"
      }
    },
    {
      "cell_type": "code",
      "source": [
        "#Alteración a la matriz original, esta alteración es la que nos indica el problema\n",
        "\n",
        "A_delta = np.array([[0, 0],[-0.0002, 0]], dtype = 'float64')\n",
        "b_delta = np.array([0, 0], dtype = 'float64')"
      ],
      "metadata": {
        "id": "ZqE-Uj6d1Trv"
      },
      "execution_count": 145,
      "outputs": []
    },
    {
      "cell_type": "code",
      "source": [
        "A_new = A_original+A_delta\n",
        "b_new = b_original+b_delta"
      ],
      "metadata": {
        "id": "palbUgp_1V2Z"
      },
      "execution_count": 146,
      "outputs": []
    },
    {
      "cell_type": "code",
      "source": [
        "#Matriz alterada del ejercicio\n",
        "\n",
        "A_new"
      ],
      "metadata": {
        "colab": {
          "base_uri": "https://localhost:8080/"
        },
        "id": "15ZJPWglqAzr",
        "outputId": "604839ec-5c9a-40b9-af02-622980102ab9"
      },
      "execution_count": 147,
      "outputs": [
        {
          "output_type": "execute_result",
          "data": {
            "text/plain": [
              "array([[1.    , 2.    ],\n",
              "       [0.9999, 2.    ]])"
            ]
          },
          "metadata": {},
          "execution_count": 147
        }
      ]
    },
    {
      "cell_type": "code",
      "source": [
        "KA_new = np.linalg.cond(A_original+A_delta, p=np.inf)"
      ],
      "metadata": {
        "id": "9j5PQCUQ1pvP"
      },
      "execution_count": 148,
      "outputs": []
    },
    {
      "cell_type": "code",
      "source": [
        "#Solución del nuevo sistema\n",
        "x_new = np.linalg.solve(A_new, b_new)\n",
        "print(x_new)"
      ],
      "metadata": {
        "colab": {
          "base_uri": "https://localhost:8080/"
        },
        "id": "Gimwdw6K1vFI",
        "outputId": "dd366fb7-44da-4788-bcf2-e6021d193d11"
      },
      "execution_count": 149,
      "outputs": [
        {
          "output_type": "stream",
          "name": "stdout",
          "text": [
            "[-1.  2.]\n"
          ]
        }
      ]
    },
    {
      "cell_type": "code",
      "source": [],
      "metadata": {
        "id": "PCZ6l7E_2X7C"
      },
      "execution_count": 149,
      "outputs": []
    },
    {
      "cell_type": "code",
      "source": [
        "#Error de las normas del vector solución x\n",
        "Error_1 = np.linalg.norm(x_new- x, ord=np.inf)/np.linalg.norm(x, ord=np.inf)\n",
        "print(\"||x_hat - x||/||x||: \", Error_1)\n",
        "\n",
        "#Error de las matriz de A y su alteración\n",
        "Error_A = np.linalg.norm(A_delta, ord=np.inf)/np.linalg.norm(A_original, ord=np.inf)\n",
        "print(\"||A_delta||/||A||: \",Error_A)\n",
        "\n",
        "#Error de la norma de b\n",
        "Error_b = np.linalg.norm(b_delta, ord=np.inf)/np.linalg.norm(b_original, ord=np.inf)\n",
        "print(\"||b_delta||/||b||: \",Error_A)"
      ],
      "metadata": {
        "colab": {
          "base_uri": "https://localhost:8080/"
        },
        "id": "JP2FIZIP3ptv",
        "outputId": "740d69bd-bf71-4796-ff1c-d4fc1c1da482"
      },
      "execution_count": 150,
      "outputs": [
        {
          "output_type": "stream",
          "name": "stdout",
          "text": [
            "||x_hat - x||/||x||:  2.0000000000044404\n",
            "||A_delta||/||A||:  6.666444451851606e-05\n",
            "||b_delta||/||b||:  6.666444451851606e-05\n"
          ]
        }
      ]
    },
    {
      "cell_type": "code",
      "source": [
        "Error_2 = (KA/(1-KA*Error_A))*(Error_A + Error_b)\n",
        "print(\"El segundo termino de la desigualdad: \", Error_2)"
      ],
      "metadata": {
        "id": "xeIJTrhs3RrV",
        "colab": {
          "base_uri": "https://localhost:8080/"
        },
        "outputId": "cbea62a5-b72b-4638-acd6-9bdd505f30c8"
      },
      "execution_count": 151,
      "outputs": [
        {
          "output_type": "stream",
          "name": "stdout",
          "text": [
            "El segundo termino de la desigualdad:  -1.3333333333334072\n"
          ]
        }
      ]
    },
    {
      "cell_type": "markdown",
      "source": [
        "Vimos que la matriz alterada del problema está mal condicionada. Por lo que mediante la factorización $QR$ encontramos que podemos llevar al sistema $Ax = b$ al sistema $MAx=Mb$ donde $M=QA^{-1}$, es decir, $Qx =QA^{-1}b$ de modo que ahora analicemos el sistema con está equivalencia."
      ],
      "metadata": {
        "id": "3vdJWfeXirG-"
      }
    },
    {
      "cell_type": "code",
      "source": [
        "#Descomposicion Grand-Schmitd QR\n",
        "\n",
        "Q, R = np.linalg.qr(A_original)\n",
        "#Ahora el sistema es Q = Q Ainv b x\n",
        "\n",
        "x_GS= np.linalg.solve(Q, Q@Ainv@b_original)\n",
        "print(\"Solución del sismtema Qx=b: \",x_GS)\n",
        "\n",
        "#Número de condición de Q\n",
        "\n",
        "KQ = np.linalg.cond(Q, p=np.inf)\n",
        "print(\"El número de condición de Q : \", KQ)\n",
        "\n",
        "print(\"||x_hat - x||/||x||: \", np.linalg.norm(x - x_GS, ord=np.inf))\n",
        "\n"
      ],
      "metadata": {
        "colab": {
          "base_uri": "https://localhost:8080/"
        },
        "id": "MJKypvHSg-82",
        "outputId": "df9a413e-d3b6-4bba-edcb-ceaf3d565264"
      },
      "execution_count": 152,
      "outputs": [
        {
          "output_type": "stream",
          "name": "stdout",
          "text": [
            "Solución del sismtema Qx=b:  [1. 1.]\n",
            "El número de condición de Q :  1.9999999950004999\n",
            "||x_hat - x||/||x||:  1.1035616864774056e-12\n"
          ]
        }
      ]
    },
    {
      "cell_type": "markdown",
      "source": [
        "#Ejercicio 5.\n",
        "\n",
        "  Considere el sistema de ecuaciones\n",
        "\n",
        "$$\n",
        "\\begin{array}{r}\n",
        "3 x_{1}-x_{2}+x_{3}=1 \\\\\n",
        "3 x_{1}+6 x_{2}+2 x_{3}=0 \\\\\n",
        "3 x_{1}+3 x_{2}+7 x_{3}=4\n",
        "\\end{array}\n",
        "$$\n",
        "\n",
        "(a) Implementar el método SOR a partir de la expresión del método de Gauss-Seidel o Gauss-Jacobi, considera $\\omega=\\frac{2}{1+\\sqrt{1-\\rho(T)^{2}}}$ donde $T=D^{-1}(L+U)$ y da valores para $\\omega$ tales que se tenga subrelajación o sobrerelajación. ¿Qué parámetro de relajación escogerías para una convergencia más rápida? Explica por qué.\n",
        "\n",
        "(b) Tomando como valores iniciales $x^{0}=(0,0,0)^{T}$, comparar con las tres primeras iteraciones del método de sobrerelajación y el que has escogido como base (Gauss-Jacobi o Gauss-Seidel)."
      ],
      "metadata": {
        "id": "37a3DMfTqLzD"
      }
    },
    {
      "cell_type": "markdown",
      "source": [
        "#Método de SOR"
      ],
      "metadata": {
        "id": "CX_a6t8sqZBm"
      }
    },
    {
      "cell_type": "code",
      "source": [
        "def SOR(x0, A, b, w, Tol, Iter):\n",
        "  D = np.diag(np.diag(A))\n",
        "  Dinv =np.linalg.inv(D)\n",
        "  L = np.tril(A, -1)\n",
        "  U = np.triu(A, 1)\n",
        "  xk = x0\n",
        "  n = A.shape[0]\n",
        "\n",
        "  for k in range(Iter):\n",
        "    xk1 = (1-w)*xk -(w*Dinv)@(L@xk + U@xk) + w*Dinv@b\n",
        "    if np.linalg.norm(xk1-xk) < Tol:\n",
        "      print('El número de iteraciones es k', k)\n",
        "      print('El error es ||x_k+1 - x_k||: ', np.linalg.norm(xk1-xk))\n",
        "      return xk1\n",
        "    else: xk = xk1\n",
        "  return xk1"
      ],
      "metadata": {
        "id": "KAjRM8zkqfJD"
      },
      "execution_count": 153,
      "outputs": []
    },
    {
      "cell_type": "code",
      "source": [
        "#Matrices de interes\n",
        "A = np.array([[3,-1, 1],\n",
        "              [3, 6, 2],\n",
        "              [3, 3, 7]], dtype=\"float64\")\n",
        "\n",
        "b = np.array([1, 0, 4], dtype=\"float64\")\n",
        "\n",
        "D = np.diag(np.diag(A))\n",
        "Dinv =np.linalg.inv(D)\n",
        "L = np.tril(A, -1)\n",
        "U = np.triu(A, 1)\n",
        "T = Dinv@(L+U)\n",
        "print(T)"
      ],
      "metadata": {
        "colab": {
          "base_uri": "https://localhost:8080/"
        },
        "id": "oM6cJNXWyFBe",
        "outputId": "a6dab930-38d6-4240-e460-0ac99a63e9cf"
      },
      "execution_count": 154,
      "outputs": [
        {
          "output_type": "stream",
          "name": "stdout",
          "text": [
            "[[ 0.         -0.33333333  0.33333333]\n",
            " [ 0.5         0.          0.33333333]\n",
            " [ 0.42857143  0.42857143  0.        ]]\n"
          ]
        }
      ]
    },
    {
      "cell_type": "code",
      "source": [
        "def p_A(A):\n",
        "  n = A.shape[0]\n",
        "  eigvals = np.linalg.eigvals(A)\n",
        "  alpha = np.zeros(n)\n",
        "\n",
        "  for i in range(n):\n",
        "    alpha[i] = np.linalg.norm(eigvals[i])\n",
        "\n",
        "  return max(alpha)"
      ],
      "metadata": {
        "id": "9ieI2vUCyd5K"
      },
      "execution_count": 155,
      "outputs": []
    },
    {
      "cell_type": "code",
      "source": [
        "p_A(T)"
      ],
      "metadata": {
        "colab": {
          "base_uri": "https://localhost:8080/"
        },
        "id": "Xy4wO7eK0ebR",
        "outputId": "c2893691-4e76-4fc0-cbf7-ab9a4167108c"
      },
      "execution_count": 156,
      "outputs": [
        {
          "output_type": "execute_result",
          "data": {
            "text/plain": [
              "0.4193196207983697"
            ]
          },
          "metadata": {},
          "execution_count": 156
        }
      ]
    },
    {
      "cell_type": "code",
      "source": [
        "np.linalg.eigvals(T)"
      ],
      "metadata": {
        "colab": {
          "base_uri": "https://localhost:8080/"
        },
        "id": "ByQjxMsMzNeG",
        "outputId": "f1c44c1c-6774-42dd-d812-73fe260c1531"
      },
      "execution_count": 157,
      "outputs": [
        {
          "output_type": "execute_result",
          "data": {
            "text/plain": [
              "array([ 0.41931962+0.j       , -0.20965981+0.1132435j,\n",
              "       -0.20965981-0.1132435j])"
            ]
          },
          "metadata": {},
          "execution_count": 157
        }
      ]
    },
    {
      "cell_type": "markdown",
      "source": [
        "$\\omega=\\frac{2}{1+\\sqrt{1-\\rho(T)^{2}}}$ donde $T=D^{-1}(L+U)$"
      ],
      "metadata": {
        "id": "0lAIiwAa0_s5"
      }
    },
    {
      "cell_type": "code",
      "source": [
        "#Parametros de la funcion SOR\n",
        "x0 = np.zeros(A.shape[0], dtype=\"float64\")\n",
        "Tol = 1e-5\n",
        "Iter = 1000\n",
        "w = 2/(1+(1-p_A(T)**2)**(1/2))\n",
        "print(\"Omega es\", w)"
      ],
      "metadata": {
        "colab": {
          "base_uri": "https://localhost:8080/"
        },
        "id": "g2lk6DO003Oi",
        "outputId": "3e648807-c0b9-4ac8-e9b9-17172a485cb6"
      },
      "execution_count": 158,
      "outputs": [
        {
          "output_type": "stream",
          "name": "stdout",
          "text": [
            "Omega es 1.048306666931363\n"
          ]
        }
      ]
    },
    {
      "cell_type": "code",
      "source": [
        "SOR(x0, A, b, w, Tol, Iter)"
      ],
      "metadata": {
        "colab": {
          "base_uri": "https://localhost:8080/"
        },
        "id": "BKXQrtU31te0",
        "outputId": "6439a195-2e1d-4483-b3c9-e3b2d669efa0"
      },
      "execution_count": 159,
      "outputs": [
        {
          "output_type": "stream",
          "name": "stdout",
          "text": [
            "El número de iteraciones es k 17\n",
            "El error es ||x_k+1 - x_k||:  5.673680695816684e-06\n"
          ]
        },
        {
          "output_type": "execute_result",
          "data": {
            "text/plain": [
              "array([ 0.0350876 , -0.23684334,  0.65789335])"
            ]
          },
          "metadata": {},
          "execution_count": 159
        }
      ]
    },
    {
      "cell_type": "code",
      "source": [
        "#Sobrerrelajación\n",
        "SOR(x0, A, b, 1.1, Tol, Iter)"
      ],
      "metadata": {
        "colab": {
          "base_uri": "https://localhost:8080/"
        },
        "id": "ZB6t6yyuiHhA",
        "outputId": "ed5ebe17-5609-4fd4-8fcb-6ce51cdf3bce"
      },
      "execution_count": 160,
      "outputs": [
        {
          "output_type": "stream",
          "name": "stdout",
          "text": [
            "El número de iteraciones es k 21\n",
            "El error es ||x_k+1 - x_k||:  6.393273361062588e-06\n"
          ]
        },
        {
          "output_type": "execute_result",
          "data": {
            "text/plain": [
              "array([ 0.03508758, -0.23684363,  0.65789303])"
            ]
          },
          "metadata": {},
          "execution_count": 160
        }
      ]
    },
    {
      "cell_type": "code",
      "source": [
        "#Subrelajación\n",
        "SOR(x0, A, b, 0.9, Tol, Iter)"
      ],
      "metadata": {
        "colab": {
          "base_uri": "https://localhost:8080/"
        },
        "id": "aKFJPhCQ8bTR",
        "outputId": "dfa946f1-0001-4f8a-83c0-d6f8f1e35b3f"
      },
      "execution_count": 161,
      "outputs": [
        {
          "output_type": "stream",
          "name": "stdout",
          "text": [
            "El número de iteraciones es k 10\n",
            "El error es ||x_k+1 - x_k||:  5.173949728875167e-06\n"
          ]
        },
        {
          "output_type": "execute_result",
          "data": {
            "text/plain": [
              "array([ 0.03508472, -0.23684167,  0.65789864])"
            ]
          },
          "metadata": {},
          "execution_count": 161
        }
      ]
    },
    {
      "cell_type": "markdown",
      "source": [
        "Veamos que con w=0.9 alcanzamos un mínimo de iteraciones."
      ],
      "metadata": {
        "id": "mMbQZnEBiRMi"
      }
    },
    {
      "cell_type": "markdown",
      "source": [
        "#Método de Jacobi"
      ],
      "metadata": {
        "id": "HpevcccM7Yw6"
      }
    },
    {
      "cell_type": "code",
      "source": [
        "def Jacobi(x0, A, b, Tol, Iter):\n",
        "  D = np.diag(np.diag(A))\n",
        "  Dinv =np.linalg.inv(D)\n",
        "  L = np.tril(A, -1)\n",
        "  U = np.triu(A, 1)\n",
        "  xk = x0\n",
        "  n = A.shape[0]\n",
        "\n",
        "  for k in range(Iter):\n",
        "    xk1 = -(Dinv)@(L@xk + U@xk) + Dinv@b #Es igual que SOR, pero con w=1\n",
        "    if np.linalg.norm(xk1-xk) < Tol:\n",
        "      print('El número de iteraciones es k', k)\n",
        "      print('El error es ||x_k+1 - x_k||: ', np.linalg.norm(xk1-xk))\n",
        "      return xk1\n",
        "    else: xk = xk1\n",
        "  return xk1"
      ],
      "metadata": {
        "id": "yVTvfXk87cCb"
      },
      "execution_count": 162,
      "outputs": []
    },
    {
      "cell_type": "code",
      "source": [
        "Jacobi(x0, A, b, Tol, Iter)"
      ],
      "metadata": {
        "colab": {
          "base_uri": "https://localhost:8080/"
        },
        "id": "V_W09Ua17va9",
        "outputId": "b4d58b7d-9945-4eda-f546-34d4c7fce1cb"
      },
      "execution_count": 163,
      "outputs": [
        {
          "output_type": "stream",
          "name": "stdout",
          "text": [
            "El número de iteraciones es k 14\n",
            "El error es ||x_k+1 - x_k||:  5.59448098943512e-06\n"
          ]
        },
        {
          "output_type": "execute_result",
          "data": {
            "text/plain": [
              "array([ 0.03508782, -0.23684101,  0.65789596])"
            ]
          },
          "metadata": {},
          "execution_count": 163
        }
      ]
    },
    {
      "cell_type": "markdown",
      "source": [
        "Con Jacobi converge más rápido porque este ejercicio converge más rápido con w=1"
      ],
      "metadata": {
        "id": "9NZqZ_oVh4RR"
      }
    },
    {
      "cell_type": "markdown",
      "source": [
        "#Comparación de los métodos con 3 iteraciones"
      ],
      "metadata": {
        "id": "mrUbUMjNiseC"
      }
    },
    {
      "cell_type": "code",
      "source": [
        "x_solucion = SOR(x0, A, b, w, Tol, Iter)"
      ],
      "metadata": {
        "colab": {
          "base_uri": "https://localhost:8080/"
        },
        "id": "jMCuLHdGlgPg",
        "outputId": "a1fb16c7-64cf-4193-e025-8cf5d789e903"
      },
      "execution_count": 164,
      "outputs": [
        {
          "output_type": "stream",
          "name": "stdout",
          "text": [
            "El número de iteraciones es k 17\n",
            "El error es ||x_k+1 - x_k||:  5.673680695816684e-06\n"
          ]
        }
      ]
    },
    {
      "cell_type": "code",
      "source": [
        "x_SOR = SOR(x0, A, b, 0.9, Tol, 3)\n",
        "print(\"El error es ||x_k+1 - x_k||: \", np.linalg.norm(x_solucion - x_SOR))"
      ],
      "metadata": {
        "colab": {
          "base_uri": "https://localhost:8080/"
        },
        "id": "Z7250lDQiznR",
        "outputId": "223d67b1-969e-40b7-edc9-6ee510d4b1e3"
      },
      "execution_count": 165,
      "outputs": [
        {
          "output_type": "stream",
          "name": "stdout",
          "text": [
            "El error es ||x_k+1 - x_k||:  0.08200836095461776\n"
          ]
        }
      ]
    },
    {
      "cell_type": "code",
      "source": [
        "x_Jacobi = Jacobi(x0, A, b, Tol, 3)\n",
        "print(\"El error es ||x_k+1 - x_k||: \", np.linalg.norm(x_solucion - x_Jacobi))"
      ],
      "metadata": {
        "colab": {
          "base_uri": "https://localhost:8080/"
        },
        "id": "t4GAp-t7i7dH",
        "outputId": "ef5dbd72-1ce1-444e-b9b0-e414dcaee20f"
      },
      "execution_count": 166,
      "outputs": [
        {
          "output_type": "stream",
          "name": "stdout",
          "text": [
            "El error es ||x_k+1 - x_k||:  0.043108821138073086\n"
          ]
        }
      ]
    }
  ]
}