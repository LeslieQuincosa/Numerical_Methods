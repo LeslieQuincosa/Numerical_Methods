{
  "nbformat": 4,
  "nbformat_minor": 0,
  "metadata": {
    "colab": {
      "provenance": []
    },
    "kernelspec": {
      "name": "python3",
      "display_name": "Python 3"
    },
    "language_info": {
      "name": "python"
    }
  },
  "cells": [
    {
      "cell_type": "markdown",
      "source": [
        "#Ejercicio 1\n",
        "##Leslie Janeth Quincosa Ramírez\n",
        "Métodos numéricos, ayudantía\n",
        "12 de agosto de 2023"
      ],
      "metadata": {
        "id": "1Nu2yaEY3SFa"
      }
    },
    {
      "cell_type": "code",
      "execution_count": 37,
      "metadata": {
        "id": "kdsLSYW23Pk2"
      },
      "outputs": [],
      "source": [
        "import numpy as np"
      ]
    },
    {
      "cell_type": "markdown",
      "source": [
        "Función que soluciona un sistema de ecuaciones de $n \\times n$ con una matriz diagonal"
      ],
      "metadata": {
        "id": "WTYniQhU9T-n"
      }
    },
    {
      "cell_type": "code",
      "source": [
        "def diagonalMatrix(A, b):\n",
        "  det = 1\n",
        "  n = A.shape[0]\n",
        "  x = np.zeros(n)\n",
        "\n",
        "  for i in range (n):\n",
        "    det *= A[i][i]\n",
        "\n",
        "    if det == 0:\n",
        "      print(\"A no es invertible\")\n",
        "      return\n",
        "\n",
        "    x[i] = b[i]/(A[i][i])\n",
        "  return x"
      ],
      "metadata": {
        "id": "TFI7s7qG4fVD"
      },
      "execution_count": 38,
      "outputs": []
    },
    {
      "cell_type": "markdown",
      "source": [
        "Pruebas matriz diagonal\n",
        "\n",
        "Ejemplos de matrices de $3 \\times 3$ diagonales, una invertible y otra no invertible."
      ],
      "metadata": {
        "id": "L86IryXp9WXA"
      }
    },
    {
      "cell_type": "code",
      "source": [
        "A = np.array([[2, 0, 0], [0, 3, 0], [0, 0, -2]])\n",
        "b = np.array([10, 15, 2])"
      ],
      "metadata": {
        "id": "kpq3Rf1-8G8v"
      },
      "execution_count": 39,
      "outputs": []
    },
    {
      "cell_type": "code",
      "source": [
        "diagonalMatrix(A, b)"
      ],
      "metadata": {
        "colab": {
          "base_uri": "https://localhost:8080/"
        },
        "id": "nVE11wxP8g62",
        "outputId": "4279c3cf-495c-4764-e980-af2025c4e6fb"
      },
      "execution_count": 40,
      "outputs": [
        {
          "output_type": "execute_result",
          "data": {
            "text/plain": [
              "array([ 5.,  5., -1.])"
            ]
          },
          "metadata": {},
          "execution_count": 40
        }
      ]
    },
    {
      "cell_type": "code",
      "source": [
        "A_det = np.array([[0, 0, 0], [0, 3, 0], [0, 0, -2]])\n",
        "b = np.array([10, 15, 2])"
      ],
      "metadata": {
        "id": "9IrGi2YV_OIb"
      },
      "execution_count": 41,
      "outputs": []
    },
    {
      "cell_type": "code",
      "source": [
        "diagonalMatrix(A_det, b)"
      ],
      "metadata": {
        "colab": {
          "base_uri": "https://localhost:8080/"
        },
        "id": "kSqpxIdf_bG7",
        "outputId": "f418a208-93ff-49cb-9623-a5d5513a7ab6"
      },
      "execution_count": 42,
      "outputs": [
        {
          "output_type": "stream",
          "name": "stdout",
          "text": [
            "A no es invertible\n"
          ]
        }
      ]
    },
    {
      "cell_type": "markdown",
      "source": [
        "Función que soluciona un sistema de ecuaciones de $n \\times n$ con una matriz triangular inferior"
      ],
      "metadata": {
        "id": "4gise7XB8x6w"
      }
    },
    {
      "cell_type": "code",
      "source": [
        "def TriangularInf(A, b):\n",
        "  det = 1\n",
        "  n = A.shape[0]\n",
        "  x = np.zeros(n)\n",
        "\n",
        "  for i in range (n):\n",
        "    det *= A[i][i]\n",
        "\n",
        "    if det == 0:\n",
        "      print(\"A no es invertible\")\n",
        "      return\n",
        "\n",
        "    sum = 0\n",
        "    for j in range(i):\n",
        "      sum += x[j]*(A[i][j])\n",
        "\n",
        "    x[i] = (b[i]- sum)/A[i][i]\n",
        "  return x"
      ],
      "metadata": {
        "id": "NdSWmwR58tw1"
      },
      "execution_count": 43,
      "outputs": []
    },
    {
      "cell_type": "markdown",
      "source": [
        "Pruebas matriz inferior\n",
        "Ejemplos de matrices de $3 \\times 3$ diagonales, usando el mismo ejemplo de la matriz diagonal anterior y de otra matriz diagonal inferior."
      ],
      "metadata": {
        "id": "PKdBfw18OxKd"
      }
    },
    {
      "cell_type": "code",
      "source": [
        "TriangularInf(A, b)"
      ],
      "metadata": {
        "colab": {
          "base_uri": "https://localhost:8080/"
        },
        "id": "O5gcxTMhGBKn",
        "outputId": "b6f5ef35-fec6-4ac8-b5f2-268ef55a1604"
      },
      "execution_count": 44,
      "outputs": [
        {
          "output_type": "execute_result",
          "data": {
            "text/plain": [
              "array([ 5.,  5., -1.])"
            ]
          },
          "metadata": {},
          "execution_count": 44
        }
      ]
    },
    {
      "cell_type": "code",
      "source": [
        "A_inf = np.array([[2, 0, 0], [-1, 3, 0], [3, 5, -2]])"
      ],
      "metadata": {
        "id": "ZmejvTfhNuAj"
      },
      "execution_count": 45,
      "outputs": []
    },
    {
      "cell_type": "code",
      "source": [
        "TriangularInf(A_inf, b)"
      ],
      "metadata": {
        "colab": {
          "base_uri": "https://localhost:8080/"
        },
        "id": "itFjkjsQN1E2",
        "outputId": "974039dc-0825-4f37-803a-665865a8c6c9"
      },
      "execution_count": 46,
      "outputs": [
        {
          "output_type": "execute_result",
          "data": {
            "text/plain": [
              "array([ 5.        ,  6.66666667, 23.16666667])"
            ]
          },
          "metadata": {},
          "execution_count": 46
        }
      ]
    },
    {
      "cell_type": "markdown",
      "source": [
        "Función que soluciona un sistema de ecuaciones de $n \\times n$ con una matriz triangular superior\n",
        "\n"
      ],
      "metadata": {
        "id": "bxMnrxSYPFLM"
      }
    },
    {
      "cell_type": "code",
      "source": [
        "def TriangularSup(A, b):\n",
        "  det = 1\n",
        "  n = A.shape[0]\n",
        "  x = np.zeros(n)\n",
        "\n",
        "  for i in reversed(range(n)): #Es la misma función que TriangularInf solo que empezamos de n a 0\n",
        "    det *= A[i][i]\n",
        "\n",
        "    if det == 0:\n",
        "      print(\"A no es invertible\")\n",
        "      return\n",
        "\n",
        "    sum = 0\n",
        "    for j in range(i, n):\n",
        "      sum += x[j]*(A[i][j])\n",
        "\n",
        "    x[i] = (b[i]- sum)/A[i][i]\n",
        "  return x"
      ],
      "metadata": {
        "id": "FeFzyq-_PNE0"
      },
      "execution_count": 47,
      "outputs": []
    },
    {
      "cell_type": "markdown",
      "source": [
        "Pruebas matriz superior\n",
        "Ejemplos de matrices de $3 \\times 3$ diagonales, éste algoritmo es una modificación del anterior, comenzando de abajo hacia arriba."
      ],
      "metadata": {
        "id": "0DBR-LFUaXki"
      }
    },
    {
      "cell_type": "code",
      "source": [
        "TriangularSup(A, b)"
      ],
      "metadata": {
        "colab": {
          "base_uri": "https://localhost:8080/"
        },
        "id": "pd4RZ7IaR9l1",
        "outputId": "3d1cff5e-de62-4782-e895-c78f307f483e"
      },
      "execution_count": 48,
      "outputs": [
        {
          "output_type": "execute_result",
          "data": {
            "text/plain": [
              "array([ 5.,  5., -1.])"
            ]
          },
          "metadata": {},
          "execution_count": 48
        }
      ]
    },
    {
      "cell_type": "code",
      "source": [
        "A_sup = np.array([[6, 10, -2], [0, 4, -1],[0, 0, 2] ])"
      ],
      "metadata": {
        "id": "cLDmmijPSyWg"
      },
      "execution_count": 49,
      "outputs": []
    },
    {
      "cell_type": "code",
      "source": [
        "TriangularSup(A_sup, b)"
      ],
      "metadata": {
        "colab": {
          "base_uri": "https://localhost:8080/"
        },
        "id": "UA0g7wauS75Y",
        "outputId": "c1f5c3f5-550c-49c7-c633-4ddb3a72e9d4"
      },
      "execution_count": 50,
      "outputs": [
        {
          "output_type": "execute_result",
          "data": {
            "text/plain": [
              "array([-4.66666667,  4.        ,  1.        ])"
            ]
          },
          "metadata": {},
          "execution_count": 50
        }
      ]
    },
    {
      "cell_type": "code",
      "source": [
        "A_sup5 = np.array([[6, 10, -2, 10, 1], [0, 4, -1, 15, 1],[0, 0, 2, 2, 1], [0, 0, 0, 1, 1], [0, 0, 0, 0, 1]])\n",
        "b5 = np.array([1, 2, 3, 4, 5])"
      ],
      "metadata": {
        "id": "NlAMfAXOLIGC"
      },
      "execution_count": 51,
      "outputs": []
    },
    {
      "cell_type": "code",
      "source": [
        "TriangularSup(A_sup5, b5)"
      ],
      "metadata": {
        "colab": {
          "base_uri": "https://localhost:8080/"
        },
        "id": "_VJsZEoJLlET",
        "outputId": "2cc35b1c-aa27-4ecc-9f48-31c468c2e2bf"
      },
      "execution_count": 52,
      "outputs": [
        {
          "output_type": "execute_result",
          "data": {
            "text/plain": [
              "array([-4.,  3.,  0., -1.,  5.])"
            ]
          },
          "metadata": {},
          "execution_count": 52
        }
      ]
    }
  ]
}