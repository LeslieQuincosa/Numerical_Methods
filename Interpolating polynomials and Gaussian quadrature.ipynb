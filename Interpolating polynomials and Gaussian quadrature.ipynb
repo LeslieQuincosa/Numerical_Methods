{
  "nbformat": 4,
  "nbformat_minor": 0,
  "metadata": {
    "colab": {
      "provenance": []
    },
    "kernelspec": {
      "name": "python3",
      "display_name": "Python 3"
    },
    "language_info": {
      "name": "python"
    }
  },
  "cells": [
    {
      "cell_type": "code",
      "execution_count": null,
      "metadata": {
        "id": "Qc2ab-EesS4M"
      },
      "outputs": [],
      "source": [
        "import numpy as np\n",
        "import matplotlib.pyplot as plt\n"
      ]
    },
    {
      "cell_type": "code",
      "source": [
        "#Matriz triangular superior\n",
        "\n",
        "def TriangularSup(A, b):\n",
        "  det = 1\n",
        "  n = A.shape[0]\n",
        "  x = np.zeros(n)\n",
        "  tol = 0.0000001\n",
        "\n",
        "  for i in reversed(range(n)): #Es la misma función que TriangularInf solo que empezamos de n a 0\n",
        "    det *= A[i][i]\n",
        "\n",
        "    if abs(det) < tol:\n",
        "      print(\"No hay solución al sistema\")\n",
        "      return\n",
        "\n",
        "    sum = 0\n",
        "    for j in range(i, n):\n",
        "      sum += x[j]*(A[i][j])\n",
        "\n",
        "    x[i] = (b[i]- sum)/A[i][i]\n",
        "  return x"
      ],
      "metadata": {
        "id": "FYBRcrO4_8hE"
      },
      "execution_count": null,
      "outputs": []
    },
    {
      "cell_type": "code",
      "source": [
        "#Metodo de eliminación Gauss-Jordan\n",
        "\n",
        "def GaussJordan(A_original, b_original):\n",
        "  A = A_original.astype('float64')\n",
        "  b = b_original.astype('float64')\n",
        "  n = A.shape[0]\n",
        "  tol = 1e-8\n",
        "\n",
        "  for k in range(n):\n",
        "    fila_pivote = k\n",
        "    for j in range(k+1, n):\n",
        "      if abs(A[j, k]) > abs(A[fila_pivote, k]):\n",
        "        fila_pivote = j\n",
        "\n",
        "      #Pivoteo\n",
        "    A[[k, fila_pivote]] = A[[fila_pivote, k]] #intercambio la fila donde está el pivote mayor\n",
        "    b[k], b[fila_pivote] = b[fila_pivote], b[k]\n",
        "\n",
        "    # checar si pivote es practicasmente 0\n",
        "    if abs(A[k, k ]) < tol:\n",
        "      break\n",
        "    for i in range(k+1, n):\n",
        "      m_ik = A[i, k]/A[k, k]\n",
        "\n",
        "      for j in range(k, n):\n",
        "        A[i,j] = A[i, j] - m_ik*A[k, j]\n",
        "\n",
        "      b[i] = b[i] - m_ik*b[k]\n",
        "\n",
        "  #print(A)\n",
        "  #print(b)\n",
        "\n",
        "  return TriangularSup(A, b)"
      ],
      "metadata": {
        "id": "UlofGC10_6l7"
      },
      "execution_count": null,
      "outputs": []
    },
    {
      "cell_type": "markdown",
      "source": [
        "#Spline cúbico natural"
      ],
      "metadata": {
        "id": "yTvgJIpZ23Gd"
      }
    },
    {
      "cell_type": "markdown",
      "source": [
        "Ejercicio 3\n",
        "\n",
        " (a) Determina el spline cúbico natural que pasa por los puntos $\\{(-3,2)$, $(-2,0),(1,3),(4,1)\\}$ y verifica las condiciones sobre la segunda derivada en los extremos dados por $S^{\\prime \\prime}(-3)=0=S^{\\prime \\prime }(4)$.\n",
        "\n",
        "(b) Usa el spline para calcular el valor en las posiciones $x=0$ y $x=2$.\n",
        "\n",
        "(c) Compara el resultado previo con el obtenido usando otro polinomio interpolador. Discute los resultados.\n"
      ],
      "metadata": {
        "id": "zUiJCvvLLHYp"
      }
    },
    {
      "cell_type": "code",
      "source": [
        "#encuentra los coeficientes\n",
        "\n",
        "def spline_cubico(x, y):\n",
        "  n = len(x)\n",
        "  h = np.zeros(n-1)\n",
        "  beta = np.zeros(n-1)\n",
        "  v = np.zeros(n-2)\n",
        "  M = np.zeros((n-2, n-2))\n",
        "  lmb = np.zeros(n)\n",
        "  a = np.zeros(n-1)\n",
        "  b = np.zeros(n-1)\n",
        "  c = np.zeros(n-1)\n",
        "  d = np.zeros(n-1)\n",
        "\n",
        "  for i in range(n-1):\n",
        "    h[i] = x[i+1] - x[i]\n",
        "    beta[i] = (y[i+1]-y[i])/h[i]\n",
        "\n",
        "  for k in range(n-2):\n",
        "    v[k] = 6*(beta[k+1] -beta[k])\n",
        "\n",
        "  for k in range(n-2):\n",
        "    M[k,k] = 2*(h[k] + h[k+1])\n",
        "\n",
        "    if k > 0:\n",
        "      M[k, k-1] = h[k]\n",
        "\n",
        "    if k<n-3:\n",
        "      M[k, k +1] = h[k+1]\n",
        "\n",
        "  lmb[1:-1] = np.linalg.solve(M, v)\n",
        "\n",
        "  for i in range(n-1):\n",
        "    a[i] = y[i]\n",
        "    b[i] = beta[i] - (h[i]/6)*(2*lmb[i] + lmb[i+1])\n",
        "    c[i] = lmb[i]/2\n",
        "    d[i] = (lmb[i+1] - lmb[i])/(6*h[i])\n",
        "\n",
        "  print(v)\n",
        "  return M, a,b,c,d"
      ],
      "metadata": {
        "id": "TEBwYXhZ2wPN"
      },
      "execution_count": null,
      "outputs": []
    },
    {
      "cell_type": "code",
      "source": [
        "def Evaluacion_spline(t, x, a, b, c, d):\n",
        "  n = len(x)\n",
        "  i = 0\n",
        "  while not (x[i] <= t <= x[i+1]):\n",
        "    i += 1\n",
        "\n",
        "  S = a[i] + b[i]*(t- x[i]) + c[i]*(t- x[i])**2 + d[i]*(t- x[i])**3\n",
        "  return S"
      ],
      "metadata": {
        "id": "xTFdCp6U9RRB"
      },
      "execution_count": null,
      "outputs": []
    },
    {
      "cell_type": "code",
      "source": [
        "x = np.array([-3, -2, 1, 4])\n",
        "y = np.array([2, 0, 3, 1])"
      ],
      "metadata": {
        "id": "T3KYeEDn_E4d"
      },
      "execution_count": null,
      "outputs": []
    },
    {
      "cell_type": "code",
      "source": [
        "M, a,b,c,d = spline_cubico(x,y)\n",
        "print(M)"
      ],
      "metadata": {
        "colab": {
          "base_uri": "https://localhost:8080/"
        },
        "id": "0cjuXQ-6_QUx",
        "outputId": "a4f30595-8fea-4bae-e369-87c79196bb8b"
      },
      "execution_count": null,
      "outputs": [
        {
          "output_type": "stream",
          "name": "stdout",
          "text": [
            "[ 18. -10.]\n",
            "[[ 8.  3.]\n",
            " [ 3. 12.]]\n"
          ]
        }
      ]
    },
    {
      "cell_type": "code",
      "source": [
        "print(a, b, c, d)"
      ],
      "metadata": {
        "colab": {
          "base_uri": "https://localhost:8080/"
        },
        "id": "bR1Q4Bz22fqM",
        "outputId": "5403a60e-9d88-4ee2-c3be-82f97e1a333f"
      },
      "execution_count": null,
      "outputs": [
        {
          "output_type": "stream",
          "name": "stdout",
          "text": [
            "[2. 0. 3.] [-2.47126437 -1.05747126  0.87356322] [ 0.          1.4137931  -0.77011494] [ 0.47126437 -0.24265645  0.08556833]\n"
          ]
        }
      ]
    },
    {
      "cell_type": "code",
      "source": [
        "for t in x:\n",
        "  print(Evaluacion_spline(t, x, a, b, c, d))"
      ],
      "metadata": {
        "colab": {
          "base_uri": "https://localhost:8080/"
        },
        "id": "xHc4EDOLBwMv",
        "outputId": "d51656e6-a962-43d0-d1f4-0cf46012077a"
      },
      "execution_count": null,
      "outputs": [
        {
          "output_type": "stream",
          "name": "stdout",
          "text": [
            "2.0\n",
            "0.0\n",
            "3.0\n",
            "1.0000000000000004\n"
          ]
        }
      ]
    },
    {
      "cell_type": "code",
      "source": [
        "print(Evaluacion_spline(0, x, a, b, c, d))"
      ],
      "metadata": {
        "colab": {
          "base_uri": "https://localhost:8080/"
        },
        "id": "3waINYgmIQjd",
        "outputId": "cfc80065-1dc0-4508-b1bf-8a1d64e4985f"
      },
      "execution_count": null,
      "outputs": [
        {
          "output_type": "stream",
          "name": "stdout",
          "text": [
            "1.598978288633461\n"
          ]
        }
      ]
    },
    {
      "cell_type": "code",
      "source": [
        "print(Evaluacion_spline(2, x, a, b, c, d))"
      ],
      "metadata": {
        "colab": {
          "base_uri": "https://localhost:8080/"
        },
        "id": "j0l-q3zlITKY",
        "outputId": "06203338-bb89-4b8e-b4e4-14c80cd21ae8"
      },
      "execution_count": null,
      "outputs": [
        {
          "output_type": "stream",
          "name": "stdout",
          "text": [
            "3.1890166028097062\n"
          ]
        }
      ]
    },
    {
      "cell_type": "code",
      "source": [
        "x_conj = np.linspace(-3, 4, 30)\n",
        "plt.plot(x_conj, [Evaluacion_spline(x0, x, a, b, c, d) for x0 in x_conj], \"blue\")\n",
        "plt.scatter(x,y)\n",
        "\n",
        "#puntos del Spline x=0 y x=2\n",
        "plt.scatter(0,Evaluacion_spline(0, x, a, b, c, d))\n",
        "plt.scatter(2,Evaluacion_spline(2, x, a, b, c, d))\n",
        "\n",
        "\n",
        "plt.title(\"Spline cúbico\")\n",
        "plt.xlabel(\"x\")\n",
        "plt.ylabel(\"y\")\n",
        "\n",
        "plt.show"
      ],
      "metadata": {
        "colab": {
          "base_uri": "https://localhost:8080/",
          "height": 489
        },
        "id": "bnWK0erbCEs1",
        "outputId": "63ded23f-abb2-4b55-dce9-443565cf7aed"
      },
      "execution_count": null,
      "outputs": [
        {
          "output_type": "execute_result",
          "data": {
            "text/plain": [
              "<function matplotlib.pyplot.show(close=None, block=None)>"
            ]
          },
          "metadata": {},
          "execution_count": 110
        },
        {
          "output_type": "display_data",
          "data": {
            "text/plain": [
              "<Figure size 640x480 with 1 Axes>"
            ],
            "image/png": "[encoded data removed]"
          },
          "metadata": {}
        }
      ]
    },
    {
      "cell_type": "markdown",
      "source": [
        "Polinomio de Lagrange interpolante.\n",
        "\n",
        "$$P_n^L(x) = \\sum_{i=0}^n f(x_i)L_i (x)$$\n",
        "\n",
        "donde $L_i (x) = \\Pi_{j = 0, j \\neq i} \\frac{x-x_j}{x_i - x_j}$\n"
      ],
      "metadata": {
        "id": "hZG9Pmz_MHTV"
      }
    },
    {
      "cell_type": "code",
      "source": [
        "def Lagrange(x, y, x0):\n",
        "  P = 0\n",
        "  n = len(x)\n",
        "\n",
        "  for i in range(n):\n",
        "    aux = 1\n",
        "\n",
        "    for k in range(n):\n",
        "      if i != k:\n",
        "\n",
        "        aux = aux*(x0 - x[k])/(x[i] - x[k])\n",
        "\n",
        "    P = P + y[i] * aux\n",
        "\n",
        "  return P"
      ],
      "metadata": {
        "id": "WjH0xMkkNJXr"
      },
      "execution_count": null,
      "outputs": []
    },
    {
      "cell_type": "code",
      "source": [
        "x_conj = np.linspace(-3, 4, 30)\n",
        "plt.plot(x_conj, [Lagrange(x, y, x0) for x0 in x_conj], \"pink\")\n",
        "plt.plot(x_conj, [Evaluacion_spline(x0, x, a, b, c, d) for x0 in x_conj], \"blue\")\n",
        "plt.scatter(x,y)\n",
        "plt.scatter(x,y)\n",
        "\n",
        "#puntos del Spline x=0 y x=2\n",
        "plt.scatter(0,Evaluacion_spline(0, x, a, b, c, d))\n",
        "plt.scatter(2,Evaluacion_spline(2, x, a, b, c, d))\n",
        "\n",
        "#puntos de Lagrange x=0 y x=2\n",
        "plt.scatter(0, Lagrange(x, y, 0))\n",
        "plt.scatter(2, Lagrange(x, y, 2))\n",
        "\n",
        "plt.legend([\"Lagrange\", \"Spline cúbico\"], loc =\"upper left\")\n",
        "plt.title(\"Polinomios interpoladores\")\n",
        "plt.xlabel(\"x\")\n",
        "plt.ylabel(\"y\")\n",
        "\n",
        "\n",
        "plt.show"
      ],
      "metadata": {
        "colab": {
          "base_uri": "https://localhost:8080/",
          "height": 489
        },
        "id": "YtlLZaqONnZT",
        "outputId": "c39a46a3-4a50-4190-fb3c-993b07fa9c66"
      },
      "execution_count": null,
      "outputs": [
        {
          "output_type": "execute_result",
          "data": {
            "text/plain": [
              "<function matplotlib.pyplot.show(close=None, block=None)>"
            ]
          },
          "metadata": {},
          "execution_count": 112
        },
        {
          "output_type": "display_data",
          "data": {
            "text/plain": [
              "<Figure size 640x480 with 1 Axes>"
            ],
            "image/png": "[encoded data removed]"
          },
          "metadata": {}
        }
      ]
    },
    {
      "cell_type": "code",
      "source": [
        "Evaluacion_spline(0, x, a, b, c, d)-Lagrange(x, y, 0)"
      ],
      "metadata": {
        "colab": {
          "base_uri": "https://localhost:8080/"
        },
        "id": "VlXIl7UCKmcq",
        "outputId": "6c9427e7-73f8-420d-f3db-e7094bc878dc"
      },
      "execution_count": null,
      "outputs": [
        {
          "output_type": "execute_result",
          "data": {
            "text/plain": [
              "0.21802590768108"
            ]
          },
          "metadata": {},
          "execution_count": 113
        }
      ]
    },
    {
      "cell_type": "code",
      "source": [
        "Evaluacion_spline(2, x, a, b, c, d)-Lagrange(x, y, 2)"
      ],
      "metadata": {
        "colab": {
          "base_uri": "https://localhost:8080/"
        },
        "id": "rDAkX5QVKpTc",
        "outputId": "0f45e7f8-3f85-41e7-90e6-9d32be843865"
      },
      "execution_count": null,
      "outputs": [
        {
          "output_type": "execute_result",
          "data": {
            "text/plain": [
              "-0.8744754606823579"
            ]
          },
          "metadata": {},
          "execution_count": 114
        }
      ]
    },
    {
      "cell_type": "code",
      "source": [],
      "metadata": {
        "id": "2TyzOKwILVLg"
      },
      "execution_count": null,
      "outputs": []
    },
    {
      "cell_type": "markdown",
      "source": [
        "Ejercicio 4\n",
        "\n",
        "La función $f(x)$ se conoce en los puntos $x_{k}$ dado en la tabla\n",
        "\n",
        "\n",
        "|x | 0.0 | 0.25 | 0.5 | 0.75 | 1.0 |\n",
        "|:---:|:---:|:---:|:---:|:---:|:---:|\n",
        "|y| 1.000 | 1.015 | 1.006 | 0.882 | 0.670 |\n",
        "\n",
        "\n",
        "\n",
        "Usa las fórmula de Newton Cotes Trapezoidal y de Simpson para aproximar la integral\n",
        "\n",
        "$$\n",
        "I=\\int_{0}^{1} f(x) d x\n",
        "$$\n",
        "\n",
        "Da una estimación del error en cada caso."
      ],
      "metadata": {
        "id": "xobrXUZbW8zu"
      }
    },
    {
      "cell_type": "markdown",
      "source": [
        "Formula de Newton-Cotes trapezoidal\n",
        "\n",
        "$$I={\\displaystyle {\\frac {1}{2}}h (f(x_0)+f(x_{n}) + 2\\sum_{n=1}^{n-1}f(x_i))} $$\n",
        "\n"
      ],
      "metadata": {
        "id": "0uAR4EN6-oM2"
      }
    },
    {
      "cell_type": "code",
      "source": [
        "def Newton_Cotes_Trapezoidal(x, y):\n",
        "  n = len(x)\n",
        "  sum = y[0] + y[n-1]\n",
        "  h = x[1] - x[0]\n",
        "\n",
        "  for i in range(1,n-1):\n",
        "    sum += 2*y[i]\n",
        "\n",
        "  return (h/2)*sum"
      ],
      "metadata": {
        "id": "bgbCpYLlW_Xi"
      },
      "execution_count": null,
      "outputs": []
    },
    {
      "cell_type": "markdown",
      "source": [
        "Formula Newton-Cotes-Simpson\n",
        "\n",
        "$$I={\\displaystyle {\\frac {1}{3}}h(f(x_{0})+4\\sum _{i=1}^{n-1} f(x_{i})+f(x_{n}))}$$\n"
      ],
      "metadata": {
        "id": "w2lYjHV9AveB"
      }
    },
    {
      "cell_type": "code",
      "source": [
        "#Solo se puede aplicar para el caso de número de nodos pares\n",
        "#Notar que se consideran los nodos ordenados\n",
        "def Newton_Cotes_Simpson(x, y):\n",
        "  n = len(x)\n",
        "  h = x[1] - x[0]\n",
        "\n",
        "  if (n-1) % 2 == 0:\n",
        "    sum = y[0] + y[n-1]\n",
        "\n",
        "    for i in range(1, n-1):\n",
        "      if i % 2 == 0:\n",
        "        sum += 2*y[i]\n",
        "      else:\n",
        "        sum += 4*y[i]\n",
        "  else:\n",
        "    return print(\"n debe ser par\")\n",
        "\n",
        "  return (h/3)*sum"
      ],
      "metadata": {
        "id": "-UljpwhIZj4f"
      },
      "execution_count": null,
      "outputs": []
    },
    {
      "cell_type": "code",
      "source": [
        "#Solo se puede aplicar paraa el caso de número de nodos multiplos de 3\n",
        "#Metodo de Simpson 3/8\n",
        "def Newton_Cotes_Simpson3_8(x, y):\n",
        "  n = len(x)\n",
        "  if (n-1) % 3 == 0:\n",
        "    sum = y[0] + y[n-1]\n",
        "    h = x[1] - x[0]\n",
        "\n",
        "    for i in range(1, n-1):\n",
        "      if i % 3 == 0:\n",
        "        sum += 2*y[i]\n",
        "      if i % 3 ==1:\n",
        "        sum += 3*y[i]\n",
        "      else:\n",
        "        sum += 3*y[i]\n",
        "  else:\n",
        "    return print(\"n debe ser multiplo de 3\")\n",
        "\n",
        "  return (3*h/8)*sum"
      ],
      "metadata": {
        "id": "1DqU82xpRRmT"
      },
      "execution_count": null,
      "outputs": []
    },
    {
      "cell_type": "code",
      "source": [
        "x_2 = np.array([0.0, 0.25, 0.5, 0.75, 1.0])\n",
        "y_2 = np.array([1.0, 1.015, 1.006, 0.882, 0.670])"
      ],
      "metadata": {
        "id": "lHtlyXwBY6zp"
      },
      "execution_count": null,
      "outputs": []
    },
    {
      "cell_type": "code",
      "source": [
        "Newton_Cotes_Trapezoidal(x_2, y_2)"
      ],
      "metadata": {
        "colab": {
          "base_uri": "https://localhost:8080/"
        },
        "id": "QpFHWY-JZWNB",
        "outputId": "f76ac558-bc13-4fc1-a9db-b25efb8b8ebf"
      },
      "execution_count": null,
      "outputs": [
        {
          "output_type": "execute_result",
          "data": {
            "text/plain": [
              "0.9345"
            ]
          },
          "metadata": {},
          "execution_count": 119
        }
      ]
    },
    {
      "cell_type": "markdown",
      "source": [
        "Calcularemos el error en el método de Newton-Cotes Trapezoidal. Sabemos que el error\n",
        "$$E(f)= -\\frac{b-a}{2} h^2 f^{''}(\\xi )$$\n",
        "\n",
        "para algún $\\xi \\in (a,b)$. Además vimos en clase una aproximación de la segunda derivada\n",
        "\n",
        "$$ f^{''}(x ) \\approx \\frac{1}{h^2}(f(x+h) - 2f(x) +f(x-h))$$\n",
        "\n",
        "En nuestro ejercicio, entonces dado $h=0.25$, podríamos solamente obtener las aproximaciones de $f''(0.25), f''(0.5), f''(0.75)$.\n"
      ],
      "metadata": {
        "id": "55Gp9QEsxjaN"
      }
    },
    {
      "cell_type": "code",
      "source": [
        "a = x_2[0]\n",
        "b = x_2[4]\n",
        "h = x_2[1]-x_2[0]\n",
        "\n",
        "f2= (1/(h**2))*(y_2[2:] - 2*y_2[1:-1] +y_2[:-2])\n",
        "\n",
        "print(\"La aproximacion f''(0.25) es\", f2[0])\n",
        "print(\"La aproximacion f''(0.5) es\", f2[1])\n",
        "print(\"La aproximacion f''(0.75) es\", f2[2])\n",
        "\n",
        "print(\"El error es:\", (2/12)*h**2)"
      ],
      "metadata": {
        "colab": {
          "base_uri": "https://localhost:8080/"
        },
        "id": "siv84Sh0x4VH",
        "outputId": "0ca770f4-f3f0-4842-88fb-f582a133f1c9"
      },
      "execution_count": null,
      "outputs": [
        {
          "output_type": "stream",
          "name": "stdout",
          "text": [
            "La aproximacion f''(0.25) es -0.3839999999999968\n",
            "La aproximacion f''(0.5) es -1.8399999999999999\n",
            "La aproximacion f''(0.75) es -1.4079999999999977\n",
            "El error es: 0.010416666666666666\n"
          ]
        }
      ]
    },
    {
      "cell_type": "markdown",
      "source": [
        "De tal modo que para estimar el error vamos a utilizar una cota superior de las derivadas. Tomaremos a $sup_{x \\in [0,1]} |f''(x)| \\leq 2$, por lo tanto\n",
        "\n",
        "$$|E(f)| = \\left| \\int_{0}^{1} f(x) d x -I_T \\right| =  \\left| -\\frac{b-a}{2} h^2 f^{''}(\\xi ) \\right| \\leq \\frac{2}{12} h^2 \\approx 0.010416 $$"
      ],
      "metadata": {
        "id": "OJLrihU40RhO"
      }
    },
    {
      "cell_type": "code",
      "source": [
        "Newton_Cotes_Simpson(x_2, y_2)"
      ],
      "metadata": {
        "colab": {
          "base_uri": "https://localhost:8080/"
        },
        "id": "Cv28W8kkadUF",
        "outputId": "37ebec90-c0ea-49a3-dfa7-e687b07466c8"
      },
      "execution_count": null,
      "outputs": [
        {
          "output_type": "execute_result",
          "data": {
            "text/plain": [
              "0.9391666666666666"
            ]
          },
          "metadata": {},
          "execution_count": 121
        }
      ]
    },
    {
      "cell_type": "markdown",
      "source": [
        "Ahora calcularemos el error para el caso de la aproximación del método de Simpson. El error está dado por\n",
        "\n",
        "$$E(f)= -\\frac{b-a}{180} h^4 f^{(4)}(\\xi )$$\n",
        "\n",
        "ver teorema $4.4$, del Burden pag. $204$.\n",
        "\n",
        "Calcularemos a $f^{(4)}(\\xi)$ para algún $\\xi \\in (a,b)$. Mediante el teorema visto en clase\n",
        "\n",
        "**Teorema**\n",
        "\n",
        "Sea $f \\in C^k([a,b])$ y $\\{x_i\\}_{i=0}^n$ distintos entre sí, entonces existe $\\mu \\in (a,b)$ tal que\n",
        "\n",
        "$$f[x_0, \\dots, x_k] = \\frac{f^{(4)}(\\mu)}{k!}.$$\n",
        "\n",
        "Por lo tanto usaremos las deferencias divididas para encontrar el error."
      ],
      "metadata": {
        "id": "gSh13vgHrbRl"
      }
    },
    {
      "cell_type": "code",
      "source": [
        "def Diferencias_divididas(x,y):\n",
        "  n = len(x)\n",
        "  F = np.zeros((n, n))#inicializar matriz tamaño (n+1, n)\n",
        "  #Primer columna ponemos\n",
        "  F[0] = y\n",
        "\n",
        "  for i in range(1, n):\n",
        "    for j in range(i, n):\n",
        "      F[i,j] = (F[i-1, j] - F[i-1, j-1])/(x[j] - x[j-i])\n",
        "\n",
        "  return  F #tabla"
      ],
      "metadata": {
        "id": "gVpDuMYleCOD"
      },
      "execution_count": null,
      "outputs": []
    },
    {
      "cell_type": "code",
      "source": [
        "f_4= Diferencias_divididas(x_2, y_2)[4,4]\n",
        "f_4 = 24*f_4\n",
        "a = x_2[0]\n",
        "b = x_2[4]\n",
        "h = x_2[1]-x_2[0]\n",
        "\n",
        "print(\"La aproximacion de la derivada cuarta es\", f_4)\n",
        "print(\"El error es\", (32/180)*h**4)"
      ],
      "metadata": {
        "colab": {
          "base_uri": "https://localhost:8080/"
        },
        "id": "uZnB7C5Dp3_N",
        "outputId": "51596186-c710-4758-939c-50f8770114bc"
      },
      "execution_count": null,
      "outputs": [
        {
          "output_type": "stream",
          "name": "stdout",
          "text": [
            "La aproximacion de la derivada cuarta es 30.208000000000112\n",
            "El error es 0.0006944444444444445\n"
          ]
        }
      ]
    },
    {
      "cell_type": "markdown",
      "source": [
        "Dado que este este error está estimado para alguna $\\xi \\in [a,b]$ entonces estimamos una cota superior del error\n",
        "\n",
        "$$\\sup_{x \\in [a,b]} |f^{(4)}(x)| \\leq 32$$\n",
        "\n",
        "Por lo tanto estimemos que\n",
        "\n",
        "$$|E(f)| = \\left| \\int_{0}^{1} f(x) d x -I_T \\right| =  \\left| -\\frac{b-a}{180} h^4 f^{(4)}(\\xi ) \\right| \\leq \\frac{32}{180} h^4 \\approx 0.0006944444 $$"
      ],
      "metadata": {
        "id": "iVbzBoubtl5H"
      }
    },
    {
      "cell_type": "markdown",
      "source": [
        "5. Se quiere calcular\n",
        "\n",
        "$$\n",
        "\\int_{1}^{4} \\cos \\left(x^{2}\\right) \\sqrt{4-x} d x\n",
        "$$\n",
        "\n",
        "¿Cómo trabaja la interpolación trapezoidal? Usa cuadratura gaussiana para obtener una aproximación. Discute los resultados obtenidos.\n",
        "\n"
      ],
      "metadata": {
        "id": "bYlBTXzwELwz"
      }
    },
    {
      "cell_type": "markdown",
      "source": [
        "Aproximamos con la cuadratura Guassiana en el intervalo $[a,b]$, es decir,\n",
        "\n",
        "$$\\int_a^b f(x) dx = \\frac{b-a}{2}\\int_{-1}^1 f(\\frac{(b-a)t + (a+b)}{2}) dt =\\frac{b-a}{2} \\sum_{i=1}^n w_i g(x_i) $$\n",
        "\n",
        "donde $g(t)=  f(\\frac{(b-a)t + (a+b)}{2})$"
      ],
      "metadata": {
        "id": "XcWWE2gCJFrF"
      }
    },
    {
      "cell_type": "code",
      "source": [
        "#Integracion de una funcion f en el intervalo [a,b] con cuadratura Gaussiana n nodos\n",
        "\n",
        "def cuadratura_Gaussiana(f, a, b, n):\n",
        "  #regresa las raices y los pesos de la cuadratura Gaussiana con el polinomio de Legendre\n",
        "  raices, w = np.polynomial.legendre.leggauss(n)\n",
        "  sum = 0\n",
        "\n",
        "  for i in range(n):\n",
        "    sum += w[i]*f(((b-a)*raices[i]+(a+b))/2)\n",
        "\n",
        "  return ((b-a)/2)*sum"
      ],
      "metadata": {
        "id": "tZkmc-gZG8FB"
      },
      "execution_count": null,
      "outputs": []
    },
    {
      "cell_type": "code",
      "source": [
        "def f(x):\n",
        "  return (np.cos(x**2))*(4-x)**(1/2)"
      ],
      "metadata": {
        "id": "ix9ykQjfLVLx"
      },
      "execution_count": null,
      "outputs": []
    },
    {
      "cell_type": "code",
      "source": [
        "cuadratura_Gaussiana(f, 1, 4, 20)"
      ],
      "metadata": {
        "colab": {
          "base_uri": "https://localhost:8080/"
        },
        "id": "K2d5PJcxLoDj",
        "outputId": "3ee87b13-3e28-4da3-e0ca-4b840fe94c6d"
      },
      "execution_count": null,
      "outputs": [
        {
          "output_type": "execute_result",
          "data": {
            "text/plain": [
              "-0.41963801294546976"
            ]
          },
          "metadata": {},
          "execution_count": 126
        }
      ]
    },
    {
      "cell_type": "code",
      "source": [
        "n_conj = range(20, 100)\n",
        "\n",
        "plt.plot(n_conj, [cuadratura_Gaussiana(f, 1, 4, n) for n in n_conj], \"blue\")\n",
        "\n",
        "\n",
        "\n",
        "plt.title(\"Cuadratura Gaussiana\")\n",
        "plt.xlabel(\"n\")\n",
        "plt.ylabel(\"integral\")\n",
        "\n",
        "plt.show"
      ],
      "metadata": {
        "colab": {
          "base_uri": "https://localhost:8080/",
          "height": 489
        },
        "id": "DFtfJsRPQsPo",
        "outputId": "933be9dc-4d3c-4097-af77-236b67593c9a"
      },
      "execution_count": null,
      "outputs": [
        {
          "output_type": "execute_result",
          "data": {
            "text/plain": [
              "<function matplotlib.pyplot.show(close=None, block=None)>"
            ]
          },
          "metadata": {},
          "execution_count": 127
        },
        {
          "output_type": "display_data",
          "data": {
            "text/plain": [
              "<Figure size 640x480 with 1 Axes>"
            ],
            "image/png": "[encoded data removed]"
          },
          "metadata": {}
        }
      ]
    },
    {
      "cell_type": "code",
      "source": [
        "x_conj = np.linspace(1, 4, 50)\n",
        "plt.plot(x_conj, [f(x0) for x0 in x_conj])\n",
        "\n",
        "plt.title(\"Función  $\\cos (x^{2})\\sqrt{4-x}$\")\n",
        "plt.xlabel(\"x\")\n",
        "plt.ylabel(\"y\")\n"
      ],
      "metadata": {
        "colab": {
          "base_uri": "https://localhost:8080/",
          "height": 495
        },
        "id": "yVphdOemUOVs",
        "outputId": "4c1414eb-9b8c-4e0f-de81-ac586d6562e9"
      },
      "execution_count": null,
      "outputs": [
        {
          "output_type": "execute_result",
          "data": {
            "text/plain": [
              "Text(0, 0.5, 'y')"
            ]
          },
          "metadata": {},
          "execution_count": 128
        },
        {
          "output_type": "display_data",
          "data": {
            "text/plain": [
              "<Figure size 640x480 with 1 Axes>"
            ],
            "image/png": "[encoded data removed]"
          },
          "metadata": {}
        }
      ]
    },
    {
      "cell_type": "markdown",
      "source": [
        "Podemos ver que con interpolación puede que no se estime el valor de la integral, si tenemos pocos puntos. Ya que tenemos muchas oscilaciones que con la interpolación podrían interpretarse como lineas que se unen en puntos intermedios de la grafica.\n",
        "\n",
        "De modo que al tener mayor cantidad de puntos es posible aproximarse a la función de forma más precisa y así poder obtener la integral."
      ],
      "metadata": {
        "id": "HOooxvbFsbtt"
      }
    }
  ]
}