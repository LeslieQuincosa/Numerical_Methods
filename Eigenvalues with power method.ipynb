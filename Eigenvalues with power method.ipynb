{
  "nbformat": 4,
  "nbformat_minor": 0,
  "metadata": {
    "colab": {
      "provenance": [],
      "toc_visible": true
    },
    "kernelspec": {
      "name": "python3",
      "display_name": "Python 3"
    },
    "language_info": {
      "name": "python"
    }
  },
  "cells": [
    {
      "cell_type": "markdown",
      "source": [
        "#Leslie Janeth Quincosa Ramírez\n",
        "\n",
        "Métodos numéricos\n",
        "\n",
        "29/09/23"
      ],
      "metadata": {
        "id": "lbld_q-dkDIL"
      }
    },
    {
      "cell_type": "markdown",
      "source": [
        "**Problema 1** Aplica el método de la potencia y potencia inversa para el cálculo del autovalor y autovector dominante de la matriz propuesta y su inversa.\n",
        "\n",
        "$$\n",
        "A=\\left(\\begin{array}{ccc}\n",
        "15 & -2 & 2 \\\\\n",
        "1 & 10 & -3 \\\\\n",
        "-2 & 1 & 0\n",
        "\\end{array}\\right)\n",
        "$$\n",
        "\n",
        "Da la tabla de iterados, la tolerancia usada y el vector inicial.\n",
        "\n",
        "(a) Con los resultados obtenidos da una aproximación para el número de condición de la matriz.\n",
        "\n",
        "(b) Implementa a alguna técnica para disminuir el número de iterados obtenidos. Muestra la nueva tabla de iterados."
      ],
      "metadata": {
        "id": "TJ1Wq1rJmQlM"
      }
    },
    {
      "cell_type": "code",
      "execution_count": 1,
      "metadata": {
        "id": "ptKohi4AkCU8"
      },
      "outputs": [],
      "source": [
        "import numpy as np"
      ]
    },
    {
      "cell_type": "markdown",
      "source": [
        "#Funciones preeliminares"
      ],
      "metadata": {
        "id": "wCAc7JH6e-bU"
      }
    },
    {
      "cell_type": "code",
      "source": [
        "#Matriz triangular superior\n",
        "\n",
        "def TriangularSup(A, b):\n",
        "  det = 1\n",
        "  n = A.shape[0]\n",
        "  x = np.zeros(n)\n",
        "  tol = 0.0000001\n",
        "\n",
        "  for i in reversed(range(n)): #Es la misma función que TriangularInf solo que empezamos de n a 0\n",
        "    det *= A[i][i]\n",
        "\n",
        "    if abs(det) < tol:\n",
        "      print(\"No hay solución al sistema\")\n",
        "      return\n",
        "\n",
        "    sum = 0\n",
        "    for j in range(i, n):\n",
        "      sum += x[j]*(A[i][j])\n",
        "\n",
        "    x[i] = (b[i]- sum)/A[i][i]\n",
        "  return x"
      ],
      "metadata": {
        "id": "Km2rsTOSuFTr"
      },
      "execution_count": 2,
      "outputs": []
    },
    {
      "cell_type": "code",
      "source": [
        "#Metodo de eliminación Gauss-Jordan\n",
        "\n",
        "def GaussJordan(A_original, b_original):\n",
        "  A = A_original.astype('float64')\n",
        "  b = b_original.astype('float64')\n",
        "  n = A.shape[0]\n",
        "  tol = 0.00001\n",
        "\n",
        "  for k in range(n):\n",
        "    fila_pivote = k\n",
        "    for j in range(k+1, n):\n",
        "      if abs(A[j, k]) > abs(A[fila_pivote, k]):\n",
        "        fila_pivote = j\n",
        "\n",
        "      #Pivoteo\n",
        "      A[[k, fila_pivote]] = A[[fila_pivote, k]] #intercambio la fila donde está el pivote mayor\n",
        "      b[k], b[fila_pivote] = b[fila_pivote], b[k]\n",
        "\n",
        "    # checar si pivote es practicasmente 0\n",
        "    if abs(A[k, k ]) < tol:\n",
        "      break\n",
        "    for i in range(k+1, n):\n",
        "      m_ik = A[i, k]/A[k, k]\n",
        "\n",
        "      for j in range(k, n):\n",
        "        A[i,j] = A[i, j] - m_ik*A[k, j]\n",
        "\n",
        "      b[i] = b[i] - m_ik*b[k]\n",
        "\n",
        "  #print(A)\n",
        "  #print(b)\n",
        "\n",
        "  return TriangularSup(A, b)"
      ],
      "metadata": {
        "id": "8DNaJKuUuEZV"
      },
      "execution_count": 3,
      "outputs": []
    },
    {
      "cell_type": "markdown",
      "source": [
        "#Método de la potencia simple"
      ],
      "metadata": {
        "id": "piqoGGyFfD5_"
      }
    },
    {
      "cell_type": "code",
      "source": [
        "#Metodo de la potencia\n",
        "\n",
        "def potencia(A, Tol, max_iter):\n",
        "  lamb = 0\n",
        "  k = 0\n",
        "  x_0 = np.random.rand(len(A))#inicializo el vector\n",
        "  x_0 = x_0/np.linalg.norm(x_0) #normalizando el vector propio\n",
        "  error = np.linalg.norm(A@x_0 - lamb*x_0)/np.linalg.norm(x_0) #Error epsilon\n",
        "\n",
        "  while k < max_iter and error > Tol:\n",
        "    x_k = A@x_0 #xk en el vector propio\n",
        "    x_0 = x_k/np.linalg.norm(x_k) #normalizando el vector propio\n",
        "    lamb = x_0.T@A@x_0 #lambda con cociente de Rayleigh\n",
        "    error = np.linalg.norm(A@x_0 - lamb*x_0)/np.linalg.norm(x_0)\n",
        "    k = k + 1\n",
        "    print(\"iteración: \", k)\n",
        "    print(\"EigenVector v: \", x_0)\n",
        "    print(\"Eigenvalor lambda: \", lamb)\n",
        "    print(\"------------------------------------------------\")\n",
        "\n",
        "  return lamb, x_k/np.linalg.norm(x_k), k"
      ],
      "metadata": {
        "id": "5azLn-w2maSY"
      },
      "execution_count": 4,
      "outputs": []
    },
    {
      "cell_type": "markdown",
      "source": [
        "#Método de la potencia con aceleración"
      ],
      "metadata": {
        "id": "knaH1xdKfLVR"
      }
    },
    {
      "cell_type": "code",
      "source": [
        "#Metodo de la potencia\n",
        "\n",
        "def metodo_potencia(A, Tol, max_iter):\n",
        "  lamb_k = np.inf\n",
        "  k = 0\n",
        "  x_0 = np.random.rand(len(A))#inicializo el vector\n",
        "  x_0 = x_0/np.linalg.norm(x_0) #normalizando el vector propio\n",
        "\n",
        "  while k < max_iter:\n",
        "    x_k = A@x_0 #xk en el vector propio\n",
        "    x_0 = x_k/np.linalg.norm(x_k) #normalizando el vector propio\n",
        "    lamb_k1 = x_0.T@A@x_0 #lambda con cociente de Rayleigh\n",
        "    print(\"iteración: \", k)\n",
        "    print(\"EigenVector v: \", x_0)\n",
        "    print(\"Eigenvalor lambda: \", lamb_k1)\n",
        "    print(\"------------------------------------------------\")\n",
        "    if abs(lamb_k - lamb_k1)< Tol:\n",
        "      return lamb_k, x_k/np.linalg.norm(x_k), k\n",
        "\n",
        "    lamb_k = lamb_k1\n",
        "    k = k + 1\n"
      ],
      "metadata": {
        "id": "kHSMBl99tzNa"
      },
      "execution_count": 5,
      "outputs": []
    },
    {
      "cell_type": "markdown",
      "source": [
        "#Método de la potencia inversa"
      ],
      "metadata": {
        "id": "bxfNqzcPfgEn"
      }
    },
    {
      "cell_type": "code",
      "source": [
        "def potencia_inv(A, Tol, max_iter):\n",
        "  k =0\n",
        "  lamb = 0\n",
        "  x_0 = np.random.rand(len(A)) #inicializo el vector\n",
        "  x_0 = x_0/np.linalg.norm(x_0) #normalizo el vector\n",
        "  epsilon = np.inf #error de la ec caracteristica\n",
        "\n",
        "  while k <max_iter and epsilon > Tol:\n",
        "    x_k = GaussJordan(A, x_0) #Resolver A@x = x_0  donde x_k es el vector propio con Gauss Jordan\n",
        "    x_0 = x_k/np.linalg.norm(x_k)\n",
        "    lamb = 1/(x_0.T@A@x_0) #lambda con cociente de Rayleigh\n",
        "    epsilon = np.linalg.norm(A@x_0 - 1/lamb*x_0)\n",
        "    k = k+1\n",
        "    print(\"iteración: \", k)\n",
        "    print(\"EigenVector v: \", x_0)\n",
        "    print(\"Eigenvalor lambda: \", lamb)\n",
        "    print(\"------------------------------------------------\")\n",
        "\n",
        "  return 1/lamb, x_k/np.linalg.norm(x_k), k"
      ],
      "metadata": {
        "id": "QFJhXo__mrzz"
      },
      "execution_count": 6,
      "outputs": []
    },
    {
      "cell_type": "code",
      "source": [
        "#Circulos de Gershgorin \\mu es el desplazamiento a la matriz\n",
        "def potencia_inv_desplazamiento(A, Tol, max_iter, mu):\n",
        "  k =0\n",
        "  lamb = 0\n",
        "  x_0 = np.random.rand(len(A)) #inicializo el vector\n",
        "  x_0 = x_0/np.linalg.norm(x_0) #normalizo el vector\n",
        "  A_new = A - mu*np.identity(len(A))\n",
        "  epsilon = np.inf\n",
        "\n",
        "  while k <max_iter and epsilon > Tol:\n",
        "    x_k = GaussJordan(A_new, x_0) #Resolver A@x = x_0  donde x_k es el vector propio con Gauss Jordan\n",
        "    x_0 = x_k/np.linalg.norm(x_k)\n",
        "    lamb = 1/(x_0.T@A_new@x_0) #lambda con cociente de Rayleigh\n",
        "    epsilon = np.linalg.norm(A_new@x_0 - 1/lamb*x_0)\n",
        "    k = k+1\n",
        "    print(\"iteración: \", k)\n",
        "    print(\"EigenVector v: \", x_0)\n",
        "    print(\"Eigenvalor lambda: \", lamb)\n",
        "    print(\"------------------------------------------------\")\n",
        "\n",
        "  return 1/lamb + mu, x_k/np.linalg.norm(x_k), k"
      ],
      "metadata": {
        "id": "iCwqXm0k-1Ru"
      },
      "execution_count": 31,
      "outputs": []
    },
    {
      "cell_type": "markdown",
      "source": [
        "#Calculos ejercicio 1"
      ],
      "metadata": {
        "id": "Tq-Fmyq0fjYW"
      }
    },
    {
      "cell_type": "code",
      "source": [
        "#Matriz del problema a\n",
        "\n",
        "A = np.array([[15, -2, 2],[1, 10, -3],[-2, 1, 0]])\n",
        "\n",
        "print(\"El máximo valor propio de A es \", np.max(np.linalg.eigvals(A)))\n",
        "print(\"El mínimo valor propio de A es \", np.min(np.linalg.eigvals(A)))"
      ],
      "metadata": {
        "colab": {
          "base_uri": "https://localhost:8080/"
        },
        "id": "5dpqXXaim2Qy",
        "outputId": "4eceeea0-e5b3-4eaa-b71b-71b906d7e6f3"
      },
      "execution_count": 8,
      "outputs": [
        {
          "output_type": "stream",
          "name": "stdout",
          "text": [
            "El máximo valor propio de A es  14.102555760088634\n",
            "El mínimo valor propio de A es  0.5120848255718702\n"
          ]
        }
      ]
    },
    {
      "cell_type": "markdown",
      "source": [
        "Calculo del λ máximo del **método de la potencia** y su valor propio asociado"
      ],
      "metadata": {
        "id": "7ml4yDhXqh4K"
      }
    },
    {
      "cell_type": "code",
      "source": [
        "#Método de la potencia simple\n",
        "lamb_max, x_max, k = potencia(A, 0.00001, 50)\n",
        "\n",
        "print(\"lambda máxima= \", lamb_max)\n",
        "print(\"x: \", x_max)\n",
        "print(\"iteraciones: \", k)"
      ],
      "metadata": {
        "colab": {
          "base_uri": "https://localhost:8080/"
        },
        "id": "3jdvkguTpry2",
        "outputId": "2243c831-8e4f-4578-8a17-65176a10b6d2"
      },
      "execution_count": 9,
      "outputs": [
        {
          "output_type": "stream",
          "name": "stdout",
          "text": [
            "iteración:  1\n",
            "EigenVector v:  [ 6.61601924e-01  7.49855080e-01 -5.02803747e-04]\n",
            "Eigenvalor lambda:  11.69323149927575\n",
            "------------------------------------------------\n",
            "iteración:  2\n",
            "EigenVector v:  [ 0.7173165   0.69503461 -0.04882551]\n",
            "Eigenvalor lambda:  12.118186516375468\n",
            "------------------------------------------------\n",
            "iteración:  3\n",
            "EigenVector v:  [ 0.76324417  0.64323541 -0.06088142]\n",
            "Eigenvalor lambda:  12.463019355024008\n",
            "------------------------------------------------\n",
            "iteración:  4\n",
            "EigenVector v:  [ 0.80380345  0.59067763 -0.0707103 ]\n",
            "Eigenvalor lambda:  12.78924575179211\n",
            "------------------------------------------------\n",
            "iteración:  5\n",
            "EigenVector v:  [ 0.8377395   0.54027195 -0.07936463]\n",
            "Eigenvalor lambda:  13.079199742927791\n",
            "------------------------------------------------\n",
            "iteración:  6\n",
            "EigenVector v:  [ 0.8647758   0.49462215 -0.08667037]\n",
            "Eigenvalor lambda:  13.32206926949113\n",
            "------------------------------------------------\n",
            "iteración:  7\n",
            "EigenVector v:  [ 0.88553415  0.45525121 -0.09260457]\n",
            "Eigenvalor lambda:  13.516273751147093\n",
            "------------------------------------------------\n",
            "iteración:  8\n",
            "EigenVector v:  [ 0.90107683  0.42260621 -0.09728588]\n",
            "Eigenvalor lambda:  13.666478367544977\n",
            "------------------------------------------------\n",
            "iteración:  9\n",
            "EigenVector v:  [ 0.91253702  0.39635212 -0.10090181]\n",
            "Eigenvalor lambda:  13.780106647556348\n",
            "------------------------------------------------\n",
            "iteración:  10\n",
            "EigenVector v:  [ 0.92091826  0.37571987 -0.10365393]\n",
            "Eigenvalor lambda:  13.864893215623882\n",
            "------------------------------------------------\n",
            "iteración:  11\n",
            "EigenVector v:  [ 0.9270267   0.35978217 -0.10572746]\n",
            "Eigenvalor lambda:  13.927659557565162\n",
            "------------------------------------------------\n",
            "iteración:  12\n",
            "EigenVector v:  [ 0.93147585  0.34762619 -0.10727892]\n",
            "Eigenvalor lambda:  13.973929181929853\n",
            "------------------------------------------------\n",
            "iteración:  13\n",
            "EigenVector v:  [ 0.93471914  0.33844074 -0.10843426]\n",
            "Eigenvalor lambda:  14.007969601534256\n",
            "------------------------------------------------\n",
            "iteración:  14\n",
            "EigenVector v:  [ 0.93708682  0.33154728 -0.10929181]\n",
            "Eigenvalor lambda:  14.032993725787398\n",
            "------------------------------------------------\n",
            "iteración:  15\n",
            "EigenVector v:  [ 0.938818    0.32639982 -0.10992689]\n",
            "Eigenvalor lambda:  14.051387199953531\n",
            "------------------------------------------------\n",
            "iteración:  16\n",
            "EigenVector v:  [ 0.94008566  0.32257025 -0.11039646]\n",
            "Eigenvalor lambda:  14.064909062816314\n",
            "------------------------------------------------\n",
            "iteración:  17\n",
            "EigenVector v:  [ 0.94101509  0.31972885 -0.11074327]\n",
            "Eigenvalor lambda:  14.0748522110046\n",
            "------------------------------------------------\n",
            "iteración:  18\n",
            "EigenVector v:  [ 0.94169722  0.31762481 -0.11099921]\n",
            "Eigenvalor lambda:  14.082165833812638\n",
            "------------------------------------------------\n",
            "iteración:  19\n",
            "EigenVector v:  [ 0.94219827  0.31606906 -0.11118798]\n",
            "Eigenvalor lambda:  14.087546688218982\n",
            "------------------------------------------------\n",
            "iteración:  20\n",
            "EigenVector v:  [ 0.94256654  0.31491995 -0.11132714]\n",
            "Eigenvalor lambda:  14.091506390329243\n",
            "------------------------------------------------\n",
            "iteración:  21\n",
            "EigenVector v:  [ 0.94283736  0.31407187 -0.11142971]\n",
            "Eigenvalor lambda:  14.094420785043656\n",
            "------------------------------------------------\n",
            "iteración:  22\n",
            "EigenVector v:  [ 0.94303657  0.31344631 -0.11150529]\n",
            "Eigenvalor lambda:  14.096566107951643\n",
            "------------------------------------------------\n",
            "iteración:  23\n",
            "EigenVector v:  [ 0.94318316  0.31298509 -0.11156097]\n",
            "Eigenvalor lambda:  14.098145470879253\n",
            "------------------------------------------------\n",
            "iteración:  24\n",
            "EigenVector v:  [ 0.94329105  0.31264514 -0.11160199]\n",
            "Eigenvalor lambda:  14.099308271837305\n",
            "------------------------------------------------\n",
            "iteración:  25\n",
            "EigenVector v:  [ 0.94337047  0.31239464 -0.11163221]\n",
            "Eigenvalor lambda:  14.100164431106403\n",
            "------------------------------------------------\n",
            "iteración:  26\n",
            "EigenVector v:  [ 0.94342893  0.31221008 -0.11165446]\n",
            "Eigenvalor lambda:  14.100794840991302\n",
            "------------------------------------------------\n",
            "iteración:  27\n",
            "EigenVector v:  [ 0.94347198  0.31207411 -0.11167085]\n",
            "Eigenvalor lambda:  14.10125904172955\n",
            "------------------------------------------------\n",
            "iteración:  28\n",
            "EigenVector v:  [ 0.94350367  0.31197396 -0.11168292]\n",
            "Eigenvalor lambda:  14.10160086317613\n",
            "------------------------------------------------\n",
            "iteración:  29\n",
            "EigenVector v:  [ 0.943527    0.31190019 -0.11169181]\n",
            "Eigenvalor lambda:  14.101852573307067\n",
            "------------------------------------------------\n",
            "iteración:  30\n",
            "EigenVector v:  [ 0.94354419  0.31184586 -0.11169836]\n",
            "Eigenvalor lambda:  14.102037929855385\n",
            "------------------------------------------------\n",
            "iteración:  31\n",
            "EigenVector v:  [ 0.94355684  0.31180585 -0.11170318]\n",
            "Eigenvalor lambda:  14.102174425720166\n",
            "------------------------------------------------\n",
            "iteración:  32\n",
            "EigenVector v:  [ 0.94356616  0.31177638 -0.11170673]\n",
            "Eigenvalor lambda:  14.10227494150009\n",
            "------------------------------------------------\n",
            "iteración:  33\n",
            "EigenVector v:  [ 0.94357302  0.31175467 -0.11170935]\n",
            "Eigenvalor lambda:  14.10234896188753\n",
            "------------------------------------------------\n",
            "iteración:  34\n",
            "EigenVector v:  [ 0.94357807  0.31173869 -0.11171127]\n",
            "Eigenvalor lambda:  14.102403471136396\n",
            "------------------------------------------------\n",
            "iteración:  35\n",
            "EigenVector v:  [ 0.94358179  0.31172692 -0.11171269]\n",
            "Eigenvalor lambda:  14.1024436123336\n",
            "------------------------------------------------\n",
            "iteración:  36\n",
            "EigenVector v:  [ 0.94358453  0.31171825 -0.11171374]\n",
            "Eigenvalor lambda:  14.10247317280721\n",
            "------------------------------------------------\n",
            "iteración:  37\n",
            "EigenVector v:  [ 0.94358655  0.31171187 -0.11171451]\n",
            "Eigenvalor lambda:  14.102494941540074\n",
            "------------------------------------------------\n",
            "iteración:  38\n",
            "EigenVector v:  [ 0.94358804  0.31170717 -0.11171507]\n",
            "Eigenvalor lambda:  14.102510972348488\n",
            "------------------------------------------------\n",
            "iteración:  39\n",
            "EigenVector v:  [ 0.94358913  0.31170371 -0.11171549]\n",
            "Eigenvalor lambda:  14.102522777676954\n",
            "------------------------------------------------\n",
            "iteración:  40\n",
            "EigenVector v:  [ 0.94358994  0.31170116 -0.1117158 ]\n",
            "Eigenvalor lambda:  14.102531471303983\n",
            "------------------------------------------------\n",
            "iteración:  41\n",
            "EigenVector v:  [ 0.94359053  0.31169928 -0.11171602]\n",
            "Eigenvalor lambda:  14.102537873428812\n",
            "------------------------------------------------\n",
            "iteración:  42\n",
            "EigenVector v:  [ 0.94359097  0.3116979  -0.11171619]\n",
            "Eigenvalor lambda:  14.102542588056716\n",
            "------------------------------------------------\n",
            "iteración:  43\n",
            "EigenVector v:  [ 0.94359129  0.31169688 -0.11171631]\n",
            "Eigenvalor lambda:  14.102546059985574\n",
            "------------------------------------------------\n",
            "iteración:  44\n",
            "EigenVector v:  [ 0.94359153  0.31169613 -0.1117164 ]\n",
            "Eigenvalor lambda:  14.102548616771074\n",
            "------------------------------------------------\n",
            "lambda máxima=  14.102548616771074\n",
            "x:  [ 0.94359153  0.31169613 -0.1117164 ]\n",
            "iteraciones:  44\n"
          ]
        }
      ]
    },
    {
      "cell_type": "code",
      "source": [
        "#Método de potencia con una mejora y tabla de iteraciones\n",
        "lamb_max, x_max, k= metodo_potencia(A, 0.00001, 50)"
      ],
      "metadata": {
        "colab": {
          "base_uri": "https://localhost:8080/"
        },
        "id": "3izciMtWvu3-",
        "outputId": "e3742855-d692-4c1f-bd25-62c311b57914"
      },
      "execution_count": 10,
      "outputs": [
        {
          "output_type": "stream",
          "name": "stdout",
          "text": [
            "iteración:  0\n",
            "EigenVector v:  [ 0.99565672 -0.02094168 -0.09071465]\n",
            "Eigenvalor lambda:  14.891421296789677\n",
            "------------------------------------------------\n",
            "iteración:  1\n",
            "EigenVector v:  [ 0.9883976   0.07070514 -0.13442833]\n",
            "Eigenvalor lambda:  14.653064037282437\n",
            "------------------------------------------------\n",
            "iteración:  2\n",
            "EigenVector v:  [ 0.98120428  0.14285031 -0.129738  ]\n",
            "Eigenvalor lambda:  14.542390605629219\n",
            "------------------------------------------------\n",
            "iteración:  3\n",
            "EigenVector v:  [ 0.97336234  0.19222368 -0.12496321]\n",
            "Eigenvalor lambda:  14.44195171178223\n",
            "------------------------------------------------\n",
            "iteración:  4\n",
            "EigenVector v:  [ 0.96645681  0.22631908 -0.12141214]\n",
            "Eigenvalor lambda:  14.359012893522078\n",
            "------------------------------------------------\n",
            "iteración:  5\n",
            "EigenVector v:  [ 0.96087307  0.2502115  -0.11881562]\n",
            "Eigenvalor lambda:  14.294250323979885\n",
            "------------------------------------------------\n",
            "iteración:  6\n",
            "EigenVector v:  [ 0.95653316  0.26715941 -0.11691945]\n",
            "Eigenvalor lambda:  14.245002302915367\n",
            "------------------------------------------------\n",
            "iteración:  7\n",
            "EigenVector v:  [ 0.95322922  0.27929564 -0.11553351]\n",
            "Eigenvalor lambda:  14.208053076309906\n",
            "------------------------------------------------\n",
            "iteración:  8\n",
            "EigenVector v:  [ 0.95074348  0.28804894 -0.11451918]\n",
            "Eigenvalor lambda:  14.180532998881128\n",
            "------------------------------------------------\n",
            "iteración:  9\n",
            "EigenVector v:  [ 0.94888662  0.29439641 -0.11377586]\n",
            "Eigenvalor lambda:  14.160121185631256\n",
            "------------------------------------------------\n",
            "iteración:  10\n",
            "EigenVector v:  [ 0.94750578  0.29901781 -0.11323052]\n",
            "Eigenvalor lambda:  14.145019268354448\n",
            "------------------------------------------------\n",
            "iteración:  11\n",
            "EigenVector v:  [ 0.94648197  0.30239255 -0.11283008]\n",
            "Eigenvalor lambda:  14.133863162641504\n",
            "------------------------------------------------\n",
            "iteración:  12\n",
            "EigenVector v:  [ 0.94572439  0.30486238 -0.11253583]\n",
            "Eigenvalor lambda:  14.125630044592564\n",
            "------------------------------------------------\n",
            "iteración:  13\n",
            "EigenVector v:  [ 0.94516457  0.30667289 -0.11231949]\n",
            "Eigenvalor lambda:  14.119558016217255\n",
            "------------------------------------------------\n",
            "iteración:  14\n",
            "EigenVector v:  [ 0.9447513   0.30800169 -0.11216036]\n",
            "Eigenvalor lambda:  14.115081780233053\n",
            "------------------------------------------------\n",
            "iteración:  15\n",
            "EigenVector v:  [ 0.94444641  0.3089778  -0.11204328]\n",
            "Eigenvalor lambda:  14.111782939387057\n",
            "------------------------------------------------\n",
            "iteración:  16\n",
            "EigenVector v:  [ 0.94422159  0.30969531 -0.11195712]\n",
            "Eigenvalor lambda:  14.1093523119008\n",
            "------------------------------------------------\n",
            "iteración:  17\n",
            "EigenVector v:  [ 0.94405588  0.31022298 -0.1118937 ]\n",
            "Eigenvalor lambda:  14.107561661362686\n",
            "------------------------------------------------\n",
            "iteración:  18\n",
            "EigenVector v:  [ 0.94393376  0.31061119 -0.11184701]\n",
            "Eigenvalor lambda:  14.106242623926743\n",
            "------------------------------------------------\n",
            "iteración:  19\n",
            "EigenVector v:  [ 0.94384378  0.31089685 -0.11181264]\n",
            "Eigenvalor lambda:  14.10527106266341\n",
            "------------------------------------------------\n",
            "iteración:  20\n",
            "EigenVector v:  [ 0.94377749  0.31110711 -0.11178734]\n",
            "Eigenvalor lambda:  14.104555480979002\n",
            "------------------------------------------------\n",
            "iteración:  21\n",
            "EigenVector v:  [ 0.94372867  0.31126189 -0.1117687 ]\n",
            "Eigenvalor lambda:  14.104028456534376\n",
            "------------------------------------------------\n",
            "iteración:  22\n",
            "EigenVector v:  [ 0.9436927   0.31137583 -0.11175498]\n",
            "Eigenvalor lambda:  14.103640315508102\n",
            "------------------------------------------------\n",
            "iteración:  23\n",
            "EigenVector v:  [ 0.94366621  0.31145973 -0.11174488]\n",
            "Eigenvalor lambda:  14.103354464969472\n",
            "------------------------------------------------\n",
            "iteración:  24\n",
            "EigenVector v:  [ 0.9436467   0.3115215  -0.11173744]\n",
            "Eigenvalor lambda:  14.103143950647292\n",
            "------------------------------------------------\n",
            "iteración:  25\n",
            "EigenVector v:  [ 0.94363234  0.31156698 -0.11173196]\n",
            "Eigenvalor lambda:  14.102988919389892\n",
            "------------------------------------------------\n",
            "iteración:  26\n",
            "EigenVector v:  [ 0.94362175  0.31160047 -0.11172793]\n",
            "Eigenvalor lambda:  14.102874749071955\n",
            "------------------------------------------------\n",
            "iteración:  27\n",
            "EigenVector v:  [ 0.94361396  0.31162514 -0.11172495]\n",
            "Eigenvalor lambda:  14.102790670670338\n",
            "------------------------------------------------\n",
            "iteración:  28\n",
            "EigenVector v:  [ 0.94360822  0.3116433  -0.11172277]\n",
            "Eigenvalor lambda:  14.102728753130156\n",
            "------------------------------------------------\n",
            "iteración:  29\n",
            "EigenVector v:  [ 0.943604    0.31165667 -0.11172116]\n",
            "Eigenvalor lambda:  14.10268315558316\n",
            "------------------------------------------------\n",
            "iteración:  30\n",
            "EigenVector v:  [ 0.94360088  0.31166652 -0.11171997]\n",
            "Eigenvalor lambda:  14.102649576549933\n",
            "------------------------------------------------\n",
            "iteración:  31\n",
            "EigenVector v:  [ 0.94359859  0.31167377 -0.1117191 ]\n",
            "Eigenvalor lambda:  14.102624848258824\n",
            "------------------------------------------------\n",
            "iteración:  32\n",
            "EigenVector v:  [ 0.9435969   0.31167911 -0.11171845]\n",
            "Eigenvalor lambda:  14.102606637860804\n",
            "------------------------------------------------\n",
            "iteración:  33\n",
            "EigenVector v:  [ 0.94359566  0.31168305 -0.11171798]\n",
            "Eigenvalor lambda:  14.102593227380199\n",
            "------------------------------------------------\n",
            "iteración:  34\n",
            "EigenVector v:  [ 0.94359475  0.31168594 -0.11171763]\n",
            "Eigenvalor lambda:  14.102583351656513\n",
            "------------------------------------------------\n"
          ]
        }
      ]
    },
    {
      "cell_type": "markdown",
      "source": [
        "Calculo del λ mínimo del **método de la potencia inversa** y su valor propio asociado"
      ],
      "metadata": {
        "id": "pKBVE5qXqxFE"
      }
    },
    {
      "cell_type": "code",
      "source": [
        "lamb_min, x_min, k= potencia_inv(A, 0.00001, 50)\n",
        "\n",
        "print(\"lambda mínima= \", lamb_min)\n",
        "print(\"x: \", x_min)\n",
        "print(\"iteraciones: \", k)"
      ],
      "metadata": {
        "colab": {
          "base_uri": "https://localhost:8080/"
        },
        "id": "IKcJExKrqgku",
        "outputId": "bd3091ce-6f0d-443c-876e-b399010242ab"
      },
      "execution_count": 32,
      "outputs": [
        {
          "output_type": "stream",
          "name": "stdout",
          "text": [
            "iteración:  1\n",
            "EigenVector v:  [-0.05717604  0.32107264  0.94532707]\n",
            "Eigenvalor lambda:  2.0356928692631255\n",
            "------------------------------------------------\n",
            "iteración:  2\n",
            "EigenVector v:  [-0.0869876   0.30921175  0.94700647]\n",
            "Eigenvalor lambda:  1.9574519314973091\n",
            "------------------------------------------------\n",
            "iteración:  3\n",
            "EigenVector v:  [-0.08807576  0.30875685  0.94705431]\n",
            "Eigenvalor lambda:  1.9529610136016444\n",
            "------------------------------------------------\n",
            "iteración:  4\n",
            "EigenVector v:  [-0.08811573  0.30873939  0.94705629]\n",
            "Eigenvalor lambda:  1.9528066941364621\n",
            "------------------------------------------------\n",
            "iteración:  5\n",
            "EigenVector v:  [-0.0881172   0.30873871  0.94705637]\n",
            "Eigenvalor lambda:  1.9528016312281844\n",
            "------------------------------------------------\n",
            "lambda mínima=  0.5120847832204367\n",
            "x:  [-0.0881172   0.30873871  0.94705637]\n",
            "iteraciones:  5\n"
          ]
        }
      ]
    },
    {
      "cell_type": "code",
      "source": [
        "#Usando Circulos de Gershgorin donde 14 es el desplazamiento\n",
        "lamb_min, x_min, k = potencia_inv_desplazamiento(A, 0.00001, 50, 14)\n",
        "\n",
        "print(\"lambda máxima= \", lamb_min)\n",
        "print(\"x: \", x_max)\n",
        "print(\"iteraciones: \", k)"
      ],
      "metadata": {
        "colab": {
          "base_uri": "https://localhost:8080/"
        },
        "id": "CXfD8fsmA3_9",
        "outputId": "de720f59-bde6-4de0-a2f3-40ed98c00403"
      },
      "execution_count": 39,
      "outputs": [
        {
          "output_type": "stream",
          "name": "stdout",
          "text": [
            "iteración:  1\n",
            "EigenVector v:  [ 0.93955452  0.32104334 -0.11903143]\n",
            "Eigenvalor lambda:  21.313144936080356\n",
            "------------------------------------------------\n",
            "iteración:  2\n",
            "EigenVector v:  [ 0.94370617  0.31135759 -0.11169207]\n",
            "Eigenvalor lambda:  9.62670302152756\n",
            "------------------------------------------------\n",
            "iteración:  3\n",
            "EigenVector v:  [ 0.94358895  0.31170408 -0.11171594]\n",
            "Eigenvalor lambda:  9.75417956876017\n",
            "------------------------------------------------\n",
            "iteración:  4\n",
            "EigenVector v:  [ 0.94359228  0.31169374 -0.11171669]\n",
            "Eigenvalor lambda:  9.750698448336891\n",
            "------------------------------------------------\n",
            "lambda máxima]=  14.102556755836353\n",
            "x:  [ 0.94359475  0.31168594 -0.11171763]\n",
            "iteraciones:  4\n"
          ]
        }
      ]
    },
    {
      "cell_type": "markdown",
      "source": [
        "(a) Con los resultados obtenidos da una aproximación para el número de condición de la matriz."
      ],
      "metadata": {
        "id": "fE4wpa7snFph"
      }
    },
    {
      "cell_type": "markdown",
      "source": [
        "Hemos visto en clase que una cota la para el número de condición es\n",
        "$$ \\frac{| \\lambda_{max} |}{|\\lambda_{min}|} \\leq k(A) \\leq \\frac{| \\lambda_{max} |}{|\\lambda_{min}|} + ɛ$$\n",
        "\n",
        "Así que dados los valores de $\\lambda_{max}$ y $\\lambda_{min}$ con el método de la potencai y potencia inversa respectivamente, tenemos que\n",
        "\n",
        "$$27.5394 \\leq 33.24309  $$\n",
        "\n",
        "Tenemos la cota inferior, más no conocemos el ɛ tal que nos dé la cota superior."
      ],
      "metadata": {
        "id": "qCc6a3M_fx7N"
      }
    },
    {
      "cell_type": "code",
      "source": [
        "k_A = abs(lamb_max)/abs(lamb_min)\n",
        "k_A"
      ],
      "metadata": {
        "colab": {
          "base_uri": "https://localhost:8080/"
        },
        "id": "2gDrydZlnEo2",
        "outputId": "89e0b21e-13f3-4b91-ed7d-05f93bb38c2b"
      },
      "execution_count": 13,
      "outputs": [
        {
          "output_type": "execute_result",
          "data": {
            "text/plain": [
              "137.51032326996537"
            ]
          },
          "metadata": {},
          "execution_count": 13
        }
      ]
    },
    {
      "cell_type": "code",
      "source": [
        "np.linalg.cond(A, 2)"
      ],
      "metadata": {
        "colab": {
          "base_uri": "https://localhost:8080/"
        },
        "id": "qO2PfoE0NGjR",
        "outputId": "000dd449-cb2d-46b9-e013-a5a4c9f0bc15"
      },
      "execution_count": 14,
      "outputs": [
        {
          "output_type": "execute_result",
          "data": {
            "text/plain": [
              "33.243093514119735"
            ]
          },
          "metadata": {},
          "execution_count": 14
        }
      ]
    },
    {
      "cell_type": "markdown",
      "source": [
        "#4. Usa una técnica numérica para determinar todos los valores propios y los vectores propios asociados a la matriz:\n",
        "\n",
        "$$\n",
        "A=\\left(\\begin{array}{lllll}\n",
        "4 & 2 & 0 & 0 & 0 \\\\\n",
        "2 & 4 & 2 & 0 & 0 \\\\\n",
        "0 & 2 & 4 & 2 & 0 \\\\\n",
        "0 & 0 & 2 & 4 & 2 \\\\\n",
        "0 & 0 & 0 & 2 & 4\n",
        "\\end{array}\\right)\n",
        "$$\n",
        "\n",
        "¿Qué técnica usaste? Da muestra de tus resultados computacionales."
      ],
      "metadata": {
        "id": "3zVE89TNpk_h"
      }
    },
    {
      "cell_type": "code",
      "source": [
        "#Matriz del ejercicio\n",
        "A_4 = np.array([[4, 2, 0, 0, 0],\n",
        "                [2, 4, 2, 0, 0],\n",
        "                [0, 2, 4, 2, 0],\n",
        "                [0, 0, 2, 4, 2],\n",
        "                [0, 0, 0, 2, 4]])"
      ],
      "metadata": {
        "id": "5onGsuMkpsQg"
      },
      "execution_count": 15,
      "outputs": []
    },
    {
      "cell_type": "markdown",
      "source": [
        "#Matriz Householder"
      ],
      "metadata": {
        "id": "SDTAbJ6TjeHA"
      }
    },
    {
      "cell_type": "code",
      "source": [
        "def HouseHolder(v):\n",
        "  n = v.size\n",
        "  return np.identity(n) - 2*(np.outer(v, v.T))/np.linalg.norm(v.T@v)"
      ],
      "metadata": {
        "id": "Rk64bnTlyP_N"
      },
      "execution_count": 16,
      "outputs": []
    },
    {
      "cell_type": "code",
      "source": [
        "#Calculo de eigenvector dado el eigenvalor\n",
        "def eigenvector(A, eigenvalor):\n",
        "    # Ecuación (A - lambI)x=0\n",
        "    A_minus_lambdaI = A - eigenvalor * np.identity(A.shape[0])\n",
        "\n",
        "    #Si usamos como vector solucion al vector 0, nos arroja la sol trivial\n",
        "    # Nos aproximamos mediante la uniform distribution  [0, 1)\n",
        "    eigenvector = np.linalg.solve(A_minus_lambdaI, np.random.rand(A.shape[0]))\n",
        "\n",
        "    #Normalizamos el vector\n",
        "    eigenvector = eigenvector / np.linalg.norm(eigenvector)\n",
        "\n",
        "    return eigenvector"
      ],
      "metadata": {
        "id": "oDypgDA4J_MD"
      },
      "execution_count": 17,
      "outputs": []
    },
    {
      "cell_type": "markdown",
      "source": [
        "#Método de la potencia con Householder"
      ],
      "metadata": {
        "id": "df85Eyw6kaOY"
      }
    },
    {
      "cell_type": "markdown",
      "source": [
        "Se utilizó el metodo de la potencia en combinación con la matriz Hoseholder. De modo que buscamos en la matriz $A$ dada, el valor propio maximo $\\lambda_1$ y su vector propio asociado $v_1$ . Después con ese vector propio $v_1$ construimos a la matriz Householder como vimos en el inciso 3. Luego creamos a la matriz\n",
        "\n",
        "$$B_1 = H A H$$\n",
        "\n",
        "cuya submatriz de $n-1 \\times n-1$ ahora contendra a los valores propios de la matriz $A$ original.\n",
        "\n",
        "Procedemos de forma iterativa, encontrando el valor propio de $B_1$ con metodo de la potencia, extrayendo el vector propio asociado al siguiente valor propio y contruyendo una matriz Householder, y así $B_2 = H_1 B_1 H_2$ es la siguiente matriz a la que extraemos la submatriz con los valores y vectores propios.\n",
        "\n",
        "Finalmente obtenemos los $5$ valores propios y vectores propios de $A \\in M^{6 \\times 6}$."
      ],
      "metadata": {
        "id": "XsInMjrGEsdD"
      }
    },
    {
      "cell_type": "code",
      "source": [
        "def Potencia_HouseHolder(A, Tol, max_iter):\n",
        "  eigenvalores = []\n",
        "  eigenvectores = []\n",
        "  #Calculo el primer valor propio y vector propio con metodo de la potencia\n",
        "  lamb, x, k = metodo_potencia(A, Tol, max_iter)\n",
        "  eigenvalores.append(lamb)\n",
        "  eigenvectores.append(x)\n",
        "\n",
        "  n = A.shape[0]\n",
        "  e1 = np.eye(1, n, 0)[0]\n",
        "  #Este es el vector para la factorización QR\n",
        "  v = x - e1\n",
        "  H = HouseHolder(v)\n",
        "  A1 = H@A@H\n",
        "\n",
        "  #Reducimos la dimensión de la matriz para encontrar una submatriz\n",
        "  #Esta submatriz tiene los mismos valores propios que A\n",
        "  for i in range(1, n):\n",
        "    #print(i)\n",
        "    Bi = A1[1:,1:]\n",
        "    if i == n-1:\n",
        "      lambi = Bi[0,0]\n",
        "      vectori = eigenvector(A, lambi)\n",
        "      eigenvalores.append(lambi)\n",
        "      eigenvectores.append(vectori)\n",
        "      break\n",
        "    #print(Bi.shape, \"B_i\")\n",
        "    #Volvemos a aplicar metodo de la potencia\n",
        "    lambi, xi, ki = metodo_potencia(Bi, Tol, max_iter)\n",
        "    vectori = eigenvector(A, lambi)\n",
        "    #print(xi.size, \"xi\")\n",
        "    #print(np.eye(1, n-i, 0)[0], \"e1\")\n",
        "    vi = xi - np.eye(1, n-i, 0)[0]\n",
        "    H = HouseHolder(vi)\n",
        "    Ai = H@Bi@H\n",
        "    #print(Ai)\n",
        "    A1 = Ai\n",
        "    eigenvalores.append(lambi)\n",
        "    eigenvectores.append(vectori)\n",
        "\n",
        "  return eigenvalores, np.array(eigenvectores)"
      ],
      "metadata": {
        "id": "OGXXZ13M23wE"
      },
      "execution_count": 18,
      "outputs": []
    },
    {
      "cell_type": "code",
      "source": [
        "np.linalg.eigvals(A_4)"
      ],
      "metadata": {
        "colab": {
          "base_uri": "https://localhost:8080/"
        },
        "id": "qSgzcHuiqokC",
        "outputId": "759f90dd-b698-4559-d1e7-a08be36871d7"
      },
      "execution_count": 19,
      "outputs": [
        {
          "output_type": "execute_result",
          "data": {
            "text/plain": [
              "array([7.46410162, 6.        , 4.        , 0.53589838, 2.        ])"
            ]
          },
          "metadata": {},
          "execution_count": 19
        }
      ]
    },
    {
      "cell_type": "code",
      "source": [
        "values, vectors = Potencia_HouseHolder(A_4, 0.00001, 50)\n",
        "\n",
        "print(\"Eigenvalores= \", values)\n",
        "print(\"EigenVectores= \", vectors)\n"
      ],
      "metadata": {
        "colab": {
          "base_uri": "https://localhost:8080/"
        },
        "id": "Wz3radz-qKLC",
        "outputId": "c43ce8cf-d4be-4994-b905-bc91dc86504b"
      },
      "execution_count": 20,
      "outputs": [
        {
          "output_type": "stream",
          "name": "stdout",
          "text": [
            "iteración:  0\n",
            "EigenVector v:  [0.30620078 0.5673691  0.43433257 0.40710088 0.47953882]\n",
            "Eigenvalor lambda:  7.168774354565605\n",
            "------------------------------------------------\n",
            "iteración:  1\n",
            "EigenVector v:  [0.32523495 0.51696814 0.50810889 0.47638901 0.3766232 ]\n",
            "Eigenvalor lambda:  7.409155444744342\n",
            "------------------------------------------------\n",
            "iteración:  2\n",
            "EigenVector v:  [0.31453185 0.50308372 0.54142088 0.49506307 0.33128911]\n",
            "Eigenvalor lambda:  7.450649478163027\n",
            "------------------------------------------------\n",
            "iteración:  3\n",
            "EigenVector v:  [0.30377429 0.49963831 0.55836439 0.49983041 0.31061472]\n",
            "Eigenvalor lambda:  7.460398809326531\n",
            "------------------------------------------------\n",
            "iteración:  4\n",
            "EigenVector v:  [0.29678269 0.49895447 0.56724913 0.50089104 0.30050136]\n",
            "Eigenvalor lambda:  7.463043919441541\n",
            "------------------------------------------------\n",
            "iteración:  5\n",
            "EigenVector v:  [0.29277171 0.49895989 0.57195801 0.50099433 0.29528371]\n",
            "Eigenvalor lambda:  7.463794523807345\n",
            "------------------------------------------------\n",
            "iteración:  6\n",
            "EigenVector v:  [0.29060101 0.49911126 0.57446652 0.50087466 0.29249237]\n",
            "Eigenvalor lambda:  7.464010767817078\n",
            "------------------------------------------------\n",
            "iteración:  7\n",
            "EigenVector v:  [0.2894718  0.49927178 0.57580654 0.50072358 0.2909579 ]\n",
            "Eigenvalor lambda:  7.464073774143814\n",
            "------------------------------------------------\n",
            "iteración:  8\n",
            "EigenVector v:  [0.28890778 0.49941103 0.57652343 0.50058725 0.29009319]\n",
            "Eigenvalor lambda:  7.464092485734111\n",
            "------------------------------------------------\n",
            "iteración:  9\n",
            "EigenVector v:  [0.28864228 0.49952565 0.57690727 0.50047361 0.28959271]\n",
            "Eigenvalor lambda:  7.464098260468002\n",
            "------------------------------------------------\n",
            "iteración:  0\n",
            "EigenVector v:  [0.74190732 0.45864723 0.48393537 0.0708717 ]\n",
            "Eigenvalor lambda:  4.613492496229822\n",
            "------------------------------------------------\n",
            "iteración:  1\n",
            "EigenVector v:  [0.89607951 0.39734911 0.19722063 0.01610013]\n",
            "Eigenvalor lambda:  5.514159465076355\n",
            "------------------------------------------------\n",
            "iteración:  2\n",
            "EigenVector v:  [ 0.92086226  0.38295644  0.03654362 -0.06341633]\n",
            "Eigenvalor lambda:  5.80840758760633\n",
            "------------------------------------------------\n",
            "iteración:  3\n",
            "EigenVector v:  [ 0.91215003  0.38520761 -0.04293496 -0.13324418]\n",
            "Eigenvalor lambda:  5.916685179342702\n",
            "------------------------------------------------\n",
            "iteración:  4\n",
            "EigenVector v:  [ 0.89768366  0.39077045 -0.08437962 -0.18531753]\n",
            "Eigenvalor lambda:  5.962841401460915\n",
            "------------------------------------------------\n",
            "iteración:  5\n",
            "EigenVector v:  [ 0.88470177  0.39565651 -0.10777107 -0.22168469]\n",
            "Eigenvalor lambda:  5.983397081736299\n",
            "------------------------------------------------\n",
            "iteración:  6\n",
            "EigenVector v:  [ 0.87469532  0.3991957  -0.12185869 -0.24637643]\n",
            "Eigenvalor lambda:  5.992596770414514\n",
            "------------------------------------------------\n",
            "iteración:  7\n",
            "EigenVector v:  [ 0.86746499  0.40159625 -0.13071886 -0.26294015]\n",
            "Eigenvalor lambda:  5.996704659949081\n",
            "------------------------------------------------\n",
            "iteración:  8\n",
            "EigenVector v:  [ 0.86240998  0.40318659 -0.13643766 -0.27399701]\n",
            "Eigenvalor lambda:  5.998534908648952\n",
            "------------------------------------------------\n",
            "iteración:  9\n",
            "EigenVector v:  [ 0.85894024  0.40423297 -0.14018319 -0.2813646 ]\n",
            "Eigenvalor lambda:  5.999349327972096\n",
            "------------------------------------------------\n",
            "iteración:  10\n",
            "EigenVector v:  [ 0.85658428  0.4049213  -0.14265605 -0.28627149]\n",
            "Eigenvalor lambda:  5.9997114940405005\n",
            "------------------------------------------------\n",
            "iteración:  11\n",
            "EigenVector v:  [ 0.85499511  0.40537504 -0.14429579 -0.28953957]\n",
            "Eigenvalor lambda:  5.999872497685144\n",
            "------------------------------------------------\n",
            "iteración:  12\n",
            "EigenVector v:  [ 0.8539276   0.4056749  -0.14538566 -0.29171655]\n",
            "Eigenvalor lambda:  5.999944063083598\n",
            "------------------------------------------------\n",
            "iteración:  13\n",
            "EigenVector v:  [ 0.85321238  0.40587353 -0.14611099 -0.29316699]\n",
            "Eigenvalor lambda:  5.999975871574232\n",
            "------------------------------------------------\n",
            "iteración:  14\n",
            "EigenVector v:  [ 0.85273402  0.40600534 -0.14659407 -0.29413351]\n",
            "Eigenvalor lambda:  5.999990009012402\n",
            "------------------------------------------------\n",
            "iteración:  15\n",
            "EigenVector v:  [ 0.85241443  0.40609294 -0.14691593 -0.29477767]\n",
            "Eigenvalor lambda:  5.999996292385847\n",
            "------------------------------------------------\n",
            "iteración:  0\n",
            "EigenVector v:  [0.94169676 0.12563465 0.31212683]\n",
            "Eigenvalor lambda:  3.6462353518324595\n",
            "------------------------------------------------\n",
            "iteración:  1\n",
            "EigenVector v:  [0.99640298 0.06852555 0.04985319]\n",
            "Eigenvalor lambda:  3.985229323687491\n",
            "------------------------------------------------\n",
            "iteración:  2\n",
            "EigenVector v:  [0.99925857 0.03645353 0.01238785]\n",
            "Eigenvalor lambda:  3.9978062848226386\n",
            "------------------------------------------------\n",
            "iteración:  3\n",
            "EigenVector v:  [0.9997664  0.02032749 0.00734379]\n",
            "Eigenvalor lambda:  3.9994835828115898\n",
            "------------------------------------------------\n",
            "iteración:  4\n",
            "EigenVector v:  [0.99990269 0.01225648 0.00666246]\n",
            "Eigenvalor lambda:  3.999876654822549\n",
            "------------------------------------------------\n",
            "iteración:  5\n",
            "EigenVector v:  [0.99994464 0.00821995 0.00656847]\n",
            "Eigenvalor lambda:  3.9999744676859925\n",
            "------------------------------------------------\n",
            "iteración:  6\n",
            "EigenVector v:  [0.99995929 0.00620154 0.00655451]\n",
            "Eigenvalor lambda:  3.999998913714493\n",
            "------------------------------------------------\n",
            "iteración:  7\n",
            "EigenVector v:  [0.99996506 0.00519232 0.00655196]\n",
            "Eigenvalor lambda:  4.000005025139126\n",
            "------------------------------------------------\n",
            "iteración:  0\n",
            "EigenVector v:  [0.32120073 0.94701114]\n",
            "Eigenvalor lambda:  1.591412840474617\n",
            "------------------------------------------------\n",
            "iteración:  1\n",
            "EigenVector v:  [-0.06433097  0.99792862]\n",
            "Eigenvalor lambda:  1.9604113428193033\n",
            "------------------------------------------------\n",
            "iteración:  2\n",
            "EigenVector v:  [-0.18387442  0.98294974]\n",
            "Eigenvalor lambda:  1.9970863774780785\n",
            "------------------------------------------------\n",
            "iteración:  3\n",
            "EigenVector v:  [-0.21588509  0.97641878]\n",
            "Eigenvalor lambda:  1.9997923149639791\n",
            "------------------------------------------------\n",
            "iteración:  4\n",
            "EigenVector v:  [-0.22443164  0.97448983]\n",
            "Eigenvalor lambda:  1.9999869777978654\n",
            "------------------------------------------------\n",
            "iteración:  5\n",
            "EigenVector v:  [-0.22671892  0.97396023]\n",
            "Eigenvalor lambda:  2.000000955923996\n",
            "------------------------------------------------\n",
            "iteración:  6\n",
            "EigenVector v:  [-0.22733158  0.97381741]\n",
            "Eigenvalor lambda:  2.0000019595165246\n",
            "------------------------------------------------\n",
            "Eigenvalores=  [7.464092485734111, 5.999990009012402, 3.999998913714493, 2.000000955923996, 0.5358984624905024]\n",
            "EigenVectores=  [[ 2.88642279e-01  4.99525645e-01  5.76907267e-01  5.00473611e-01\n",
            "   2.89592706e-01]\n",
            " [-4.99970573e-01 -4.99929931e-01  4.72888234e-05  5.00053645e-01\n",
            "   5.00045838e-01]\n",
            " [ 5.77350080e-01 -3.65574822e-08 -5.77349892e-01  1.54901072e-06\n",
            "   5.77350835e-01]\n",
            " [-4.99998040e-01  5.00000556e-01 -1.08502584e-06 -4.99999283e-01\n",
            "   5.00002121e-01]\n",
            " [-2.88675117e-01  5.00000007e-01 -5.77350277e-01  5.00000009e-01\n",
            "  -2.88675108e-01]]\n"
          ]
        }
      ]
    },
    {
      "cell_type": "code",
      "source": [
        "#Comprobación\n",
        "for i in range(5):\n",
        "  Av = A_4@vectors[i]\n",
        "  lambda_x = values[i]*vectors[i]\n",
        "  print(\"Valor\", i+1)\n",
        "  print(\"Av = \", Av)\n",
        "  print(\"lambda_x = \", lambda_x)\n",
        "  print(\"----------------------------------------\")"
      ],
      "metadata": {
        "colab": {
          "base_uri": "https://localhost:8080/"
        },
        "id": "0O9x-XsUmVRG",
        "outputId": "9ca227e5-a56d-43bb-b3f5-c3f8872a7507"
      },
      "execution_count": 21,
      "outputs": [
        {
          "output_type": "stream",
          "name": "stdout",
          "text": [
            "Valor 1\n",
            "Av =  [2.1536204  3.72920167 4.30762758 3.73489439 2.15931804]\n",
            "lambda_x =  [2.15445266 3.72850561 4.3060892  3.73558132 2.16154674]\n",
            "----------------------------------------\n",
            "Valor 2\n",
            "Av =  [-2.99974216e+00 -2.99956629e+00  4.36584442e-04  3.00040083e+00\n",
            "  3.00029064e+00]\n",
            "lambda_x =  [-2.99981845e+00 -2.99957459e+00  2.83732468e-04  3.00031688e+00\n",
            "  3.00027003e+00]\n",
            "----------------------------------------\n",
            "Valor 3\n",
            "Av =  [ 2.30940025e+00  2.29356255e-07 -2.30939654e+00  8.08229651e-06\n",
            "  2.30940644e+00]\n",
            "lambda_x =  [ 2.30939969e+00 -1.46229889e-07 -2.30939894e+00  6.19604121e-06\n",
            "  2.30940271e+00]\n",
            "----------------------------------------\n",
            "Valor 4\n",
            "Av =  [-9.99991046e-01  1.00000398e+00 -1.79290897e-06 -9.99995059e-01\n",
            "  1.00000992e+00]\n",
            "lambda_x =  [-9.99996557e-01  1.00000159e+00 -2.17005271e-06 -9.99999044e-01\n",
            "  1.00000472e+00]\n",
            "----------------------------------------\n",
            "Valor 5\n",
            "Av =  [-0.15470045  0.26794924 -0.30940108  0.26794926 -0.15470041]\n",
            "lambda_x =  [-0.15470055  0.26794924 -0.30940113  0.26794924 -0.15470055]\n",
            "----------------------------------------\n"
          ]
        }
      ]
    }
  ]
}